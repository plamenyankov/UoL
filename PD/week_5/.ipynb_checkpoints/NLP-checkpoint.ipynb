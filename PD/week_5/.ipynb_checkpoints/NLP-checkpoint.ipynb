{
 "cells": [
  {
   "cell_type": "markdown",
   "metadata": {},
   "source": [
    "## Install nltk and wordcloud "
   ]
  },
  {
   "cell_type": "code",
   "execution_count": 1,
   "metadata": {},
   "outputs": [
    {
     "name": "stdout",
     "output_type": "stream",
     "text": [
      "Collecting nltk\n",
      "  Downloading nltk-3.6.5-py3-none-any.whl (1.5 MB)\n",
      "\u001b[K     |████████████████████████████████| 1.5 MB 2.1 MB/s eta 0:00:01\n",
      "\u001b[?25hRequirement already satisfied: joblib in /Users/plamenyankov/anaconda3/envs/jupyter-env/lib/python3.8/site-packages (from nltk) (1.0.0)\n",
      "Collecting regex>=2021.8.3\n",
      "  Downloading regex-2021.10.23-cp38-cp38-macosx_10_9_x86_64.whl (288 kB)\n",
      "\u001b[K     |████████████████████████████████| 288 kB 13.1 MB/s eta 0:00:01\n",
      "\u001b[?25hCollecting click\n",
      "  Downloading click-8.0.3-py3-none-any.whl (97 kB)\n",
      "\u001b[K     |████████████████████████████████| 97 kB 7.5 MB/s  eta 0:00:01\n",
      "\u001b[?25hCollecting tqdm\n",
      "  Downloading tqdm-4.62.3-py2.py3-none-any.whl (76 kB)\n",
      "\u001b[K     |████████████████████████████████| 76 kB 4.7 MB/s eta 0:00:01\n",
      "\u001b[?25hInstalling collected packages: tqdm, regex, click, nltk\n",
      "Successfully installed click-8.0.3 nltk-3.6.5 regex-2021.10.23 tqdm-4.62.3\n",
      "Collecting wordcloud\n",
      "  Downloading wordcloud-1.8.1.tar.gz (220 kB)\n",
      "\u001b[K     |████████████████████████████████| 220 kB 694 kB/s eta 0:00:01\n",
      "\u001b[?25hRequirement already satisfied: numpy>=1.6.1 in /Users/plamenyankov/anaconda3/envs/jupyter-env/lib/python3.8/site-packages (from wordcloud) (1.19.2)\n",
      "Requirement already satisfied: pillow in /Users/plamenyankov/anaconda3/envs/jupyter-env/lib/python3.8/site-packages (from wordcloud) (8.0.1)\n",
      "Requirement already satisfied: matplotlib in /Users/plamenyankov/anaconda3/envs/jupyter-env/lib/python3.8/site-packages (from wordcloud) (3.3.2)\n",
      "Requirement already satisfied: kiwisolver>=1.0.1 in /Users/plamenyankov/anaconda3/envs/jupyter-env/lib/python3.8/site-packages (from matplotlib->wordcloud) (1.2.0)\n",
      "Requirement already satisfied: pyparsing!=2.0.4,!=2.1.2,!=2.1.6,>=2.0.3 in /Users/plamenyankov/anaconda3/envs/jupyter-env/lib/python3.8/site-packages (from matplotlib->wordcloud) (2.4.7)\n",
      "Requirement already satisfied: cycler>=0.10 in /Users/plamenyankov/anaconda3/envs/jupyter-env/lib/python3.8/site-packages (from matplotlib->wordcloud) (0.10.0)\n",
      "Requirement already satisfied: python-dateutil>=2.1 in /Users/plamenyankov/anaconda3/envs/jupyter-env/lib/python3.8/site-packages (from matplotlib->wordcloud) (2.8.1)\n",
      "Requirement already satisfied: certifi>=2020.06.20 in /Users/plamenyankov/anaconda3/envs/jupyter-env/lib/python3.8/site-packages (from matplotlib->wordcloud) (2020.6.20)\n",
      "Requirement already satisfied: six in /Users/plamenyankov/anaconda3/envs/jupyter-env/lib/python3.8/site-packages (from cycler>=0.10->matplotlib->wordcloud) (1.15.0)\n",
      "Building wheels for collected packages: wordcloud\n",
      "  Building wheel for wordcloud (setup.py) ... \u001b[?25ldone\n",
      "\u001b[?25h  Created wheel for wordcloud: filename=wordcloud-1.8.1-cp38-cp38-macosx_10_9_x86_64.whl size=158809 sha256=0511382e5a88e203c46aff50cd8e4b65d82bd3802131f6d7ef1dfcfc8b55221b\n",
      "  Stored in directory: /Users/plamenyankov/Library/Caches/pip/wheels/4d/3f/0d/a2ba9b7895c9f1be89018b3141c3df3d4f9c786c882ccfbc3b\n",
      "Successfully built wordcloud\n",
      "Installing collected packages: wordcloud\n",
      "Successfully installed wordcloud-1.8.1\n"
     ]
    }
   ],
   "source": [
    "import sys\n",
    "!{sys.executable} -m pip install nltk\n",
    "!{sys.executable} -m pip install wordcloud"
   ]
  },
  {
   "cell_type": "markdown",
   "metadata": {},
   "source": [
    "### Import nltk and download punkt library "
   ]
  },
  {
   "cell_type": "code",
   "execution_count": 47,
   "metadata": {},
   "outputs": [],
   "source": [
    "import pandas as pd\n",
    "import nltk  \n",
    "# nltk.download('punkt')\n",
    "# sentence=\"I like to dance. It is fun to dance.\""
   ]
  },
  {
   "cell_type": "code",
   "execution_count": 17,
   "metadata": {},
   "outputs": [
    {
     "data": {
      "text/plain": [
       "['I', 'like', 'to', 'dance', '.', 'It', 'is', 'fun', 'to', 'dance', '.']"
      ]
     },
     "execution_count": 17,
     "metadata": {},
     "output_type": "execute_result"
    }
   ],
   "source": [
    "ft = nltk.word_tokenize(sentence)\n",
    "ft"
   ]
  },
  {
   "cell_type": "code",
   "execution_count": 55,
   "metadata": {},
   "outputs": [
    {
     "data": {
      "text/html": [
       "<div>\n",
       "<style scoped>\n",
       "    .dataframe tbody tr th:only-of-type {\n",
       "        vertical-align: middle;\n",
       "    }\n",
       "\n",
       "    .dataframe tbody tr th {\n",
       "        vertical-align: top;\n",
       "    }\n",
       "\n",
       "    .dataframe thead th {\n",
       "        text-align: right;\n",
       "    }\n",
       "</style>\n",
       "<table border=\"1\" class=\"dataframe\">\n",
       "  <thead>\n",
       "    <tr style=\"text-align: right;\">\n",
       "      <th></th>\n",
       "      <th>Response</th>\n",
       "      <th>Submitted on:</th>\n",
       "      <th>somedata</th>\n",
       "      <th>Department</th>\n",
       "      <th>Course</th>\n",
       "      <th>Group</th>\n",
       "      <th>ID</th>\n",
       "      <th>Full name</th>\n",
       "      <th>Username</th>\n",
       "      <th>Q01_Readings</th>\n",
       "      <th>Q02_Activities</th>\n",
       "      <th>Q03_Timing</th>\n",
       "      <th>Q04_Additional</th>\n",
       "    </tr>\n",
       "  </thead>\n",
       "  <tbody>\n",
       "    <tr>\n",
       "      <th>0</th>\n",
       "      <td>1</td>\n",
       "      <td>09/07/2020 11:03:47</td>\n",
       "      <td>null</td>\n",
       "      <td>COMPUTING</td>\n",
       "      <td>CM2015</td>\n",
       "      <td></td>\n",
       "      <td></td>\n",
       "      <td>Anonymous1</td>\n",
       "      <td>Anonymous1</td>\n",
       "      <td>null</td>\n",
       "      <td>null</td>\n",
       "      <td>null</td>\n",
       "      <td>some text</td>\n",
       "    </tr>\n",
       "    <tr>\n",
       "      <th>1</th>\n",
       "      <td>2</td>\n",
       "      <td>09/07/2020 11:03:48</td>\n",
       "      <td>null</td>\n",
       "      <td>COMPUTING</td>\n",
       "      <td>CM2016</td>\n",
       "      <td></td>\n",
       "      <td></td>\n",
       "      <td>Anonymous2</td>\n",
       "      <td>Anonymous2</td>\n",
       "      <td>null</td>\n",
       "      <td>null</td>\n",
       "      <td>null</td>\n",
       "      <td>is here</td>\n",
       "    </tr>\n",
       "    <tr>\n",
       "      <th>2</th>\n",
       "      <td>3</td>\n",
       "      <td>09/07/2020 11:03:49</td>\n",
       "      <td>null</td>\n",
       "      <td>COMPUTING</td>\n",
       "      <td>CM2017</td>\n",
       "      <td></td>\n",
       "      <td></td>\n",
       "      <td>Anonymous3</td>\n",
       "      <td>Anonymous3</td>\n",
       "      <td>null</td>\n",
       "      <td>null</td>\n",
       "      <td>null</td>\n",
       "      <td>and you</td>\n",
       "    </tr>\n",
       "    <tr>\n",
       "      <th>3</th>\n",
       "      <td>4</td>\n",
       "      <td>09/07/2020 11:03:50</td>\n",
       "      <td>null</td>\n",
       "      <td>COMPUTING</td>\n",
       "      <td>CM2018</td>\n",
       "      <td></td>\n",
       "      <td></td>\n",
       "      <td>Anonymous4</td>\n",
       "      <td>Anonymous4</td>\n",
       "      <td>null</td>\n",
       "      <td>null</td>\n",
       "      <td>null</td>\n",
       "      <td>can explore</td>\n",
       "    </tr>\n",
       "    <tr>\n",
       "      <th>4</th>\n",
       "      <td>5</td>\n",
       "      <td>09/07/2020 11:03:51</td>\n",
       "      <td>null</td>\n",
       "      <td>COMPUTING</td>\n",
       "      <td>CM2019</td>\n",
       "      <td></td>\n",
       "      <td></td>\n",
       "      <td>Anonymous5</td>\n",
       "      <td>Anonymous5</td>\n",
       "      <td>null</td>\n",
       "      <td>null</td>\n",
       "      <td>null</td>\n",
       "      <td>the text</td>\n",
       "    </tr>\n",
       "    <tr>\n",
       "      <th>5</th>\n",
       "      <td>6</td>\n",
       "      <td>09/07/2020 11:03:52</td>\n",
       "      <td>null</td>\n",
       "      <td>COMPUTING</td>\n",
       "      <td>CM2020</td>\n",
       "      <td></td>\n",
       "      <td></td>\n",
       "      <td>Anonymous6</td>\n",
       "      <td>Anonymous6</td>\n",
       "      <td>null</td>\n",
       "      <td>null</td>\n",
       "      <td>null</td>\n",
       "      <td>in the examples</td>\n",
       "    </tr>\n",
       "    <tr>\n",
       "      <th>6</th>\n",
       "      <td>7</td>\n",
       "      <td>09/07/2020 11:03:53</td>\n",
       "      <td>null</td>\n",
       "      <td>COMPUTING</td>\n",
       "      <td>CM2021</td>\n",
       "      <td></td>\n",
       "      <td></td>\n",
       "      <td>Anonymous7</td>\n",
       "      <td>Anonymous7</td>\n",
       "      <td>null</td>\n",
       "      <td>null</td>\n",
       "      <td>null</td>\n",
       "      <td>hopefully, this text</td>\n",
       "    </tr>\n",
       "    <tr>\n",
       "      <th>7</th>\n",
       "      <td>8</td>\n",
       "      <td>09/07/2020 11:03:54</td>\n",
       "      <td>null</td>\n",
       "      <td>COMPUTING</td>\n",
       "      <td>CM2022</td>\n",
       "      <td></td>\n",
       "      <td></td>\n",
       "      <td>Anonymous8</td>\n",
       "      <td>Anonymous8</td>\n",
       "      <td>null</td>\n",
       "      <td>null</td>\n",
       "      <td>null</td>\n",
       "      <td>is easy</td>\n",
       "    </tr>\n",
       "    <tr>\n",
       "      <th>8</th>\n",
       "      <td>9</td>\n",
       "      <td>09/07/2020 11:03:55</td>\n",
       "      <td>null</td>\n",
       "      <td>COMPUTING</td>\n",
       "      <td>CM2023</td>\n",
       "      <td></td>\n",
       "      <td></td>\n",
       "      <td>Anonymous9</td>\n",
       "      <td>Anonymous9</td>\n",
       "      <td>null</td>\n",
       "      <td>null</td>\n",
       "      <td>null</td>\n",
       "      <td>to manage</td>\n",
       "    </tr>\n",
       "    <tr>\n",
       "      <th>9</th>\n",
       "      <td>10</td>\n",
       "      <td>09/07/2020 11:03:56</td>\n",
       "      <td>null</td>\n",
       "      <td>COMPUTING</td>\n",
       "      <td>CM2024</td>\n",
       "      <td></td>\n",
       "      <td></td>\n",
       "      <td>Anonymous10</td>\n",
       "      <td>Anonymous10</td>\n",
       "      <td>null</td>\n",
       "      <td>null</td>\n",
       "      <td>null</td>\n",
       "      <td>and to explore</td>\n",
       "    </tr>\n",
       "  </tbody>\n",
       "</table>\n",
       "</div>"
      ],
      "text/plain": [
       "   Response        Submitted on: somedata Department  Course Group ID  \\\n",
       "0         1  09/07/2020 11:03:47     null  COMPUTING  CM2015            \n",
       "1         2  09/07/2020 11:03:48     null  COMPUTING  CM2016            \n",
       "2         3  09/07/2020 11:03:49     null  COMPUTING  CM2017            \n",
       "3         4  09/07/2020 11:03:50     null  COMPUTING  CM2018            \n",
       "4         5  09/07/2020 11:03:51     null  COMPUTING  CM2019            \n",
       "5         6  09/07/2020 11:03:52     null  COMPUTING  CM2020            \n",
       "6         7  09/07/2020 11:03:53     null  COMPUTING  CM2021            \n",
       "7         8  09/07/2020 11:03:54     null  COMPUTING  CM2022            \n",
       "8         9  09/07/2020 11:03:55     null  COMPUTING  CM2023            \n",
       "9        10  09/07/2020 11:03:56     null  COMPUTING  CM2024            \n",
       "\n",
       "     Full name     Username Q01_Readings Q02_Activities Q03_Timing  \\\n",
       "0   Anonymous1   Anonymous1         null           null       null   \n",
       "1   Anonymous2   Anonymous2         null           null       null   \n",
       "2   Anonymous3   Anonymous3         null           null       null   \n",
       "3   Anonymous4   Anonymous4         null           null       null   \n",
       "4   Anonymous5   Anonymous5         null           null       null   \n",
       "5   Anonymous6   Anonymous6         null           null       null   \n",
       "6   Anonymous7   Anonymous7         null           null       null   \n",
       "7   Anonymous8   Anonymous8         null           null       null   \n",
       "8   Anonymous9   Anonymous9         null           null       null   \n",
       "9  Anonymous10  Anonymous10         null           null       null   \n",
       "\n",
       "         Q04_Additional  \n",
       "0             some text  \n",
       "1               is here  \n",
       "2               and you  \n",
       "3           can explore  \n",
       "4              the text  \n",
       "5       in the examples  \n",
       "6  hopefully, this text  \n",
       "7               is easy  \n",
       "8             to manage  \n",
       "9        and to explore  "
      ]
     },
     "execution_count": 55,
     "metadata": {},
     "output_type": "execute_result"
    }
   ],
   "source": [
    "six = pd.read_csv('../data/6.csv', encoding=\"utf-8\", keep_default_na=False,skipinitialspace=True)\n",
    "six.head(10)"
   ]
  },
  {
   "cell_type": "code",
   "execution_count": 49,
   "metadata": {},
   "outputs": [
    {
     "name": "stdout",
     "output_type": "stream",
     "text": [
      "The number of rows: 26\n"
     ]
    }
   ],
   "source": [
    "index = six.index\n",
    "num_rows = len(index)\n",
    "print(\"The number of rows: \" + str(num_rows))"
   ]
  },
  {
   "cell_type": "markdown",
   "metadata": {},
   "source": [
    "* Get the words from Q04_Additional column"
   ]
  },
  {
   "cell_type": "code",
   "execution_count": 69,
   "metadata": {},
   "outputs": [
    {
     "data": {
      "text/plain": [
       "{'explore': 3,\n",
       " 'examples': 1,\n",
       " 'hopefully': 1,\n",
       " 'manage': 1,\n",
       " 'might': 1,\n",
       " 'different': 1,\n",
       " 'techniques': 1,\n",
       " 'order': 1,\n",
       " 'interesting': 1,\n",
       " 'useful': 1,\n",
       " 'things': 1,\n",
       " 'language': 2,\n",
       " 'construct': 1,\n",
       " 'built': 1,\n",
       " 'around': 1,\n",
       " 'structured': 1,\n",
       " 'based': 1}"
      ]
     },
     "execution_count": 69,
     "metadata": {},
     "output_type": "execute_result"
    }
   ],
   "source": [
    "myWords = []\n",
    "for row in six[\"Q04_Additional\"]:\n",
    "    myWords = myWords + nltk.word_tokenize(row)\n",
    "#     print(row)\n",
    "words_analysis = nltk.FreqDist(myWords)\n",
    "filter_words = dict([(m,n) for m,n in words_analysis.items() if len(m) > 4])\n",
    "filter_words"
   ]
  },
  {
   "cell_type": "code",
   "execution_count": 70,
   "metadata": {},
   "outputs": [],
   "source": [
    "from wordcloud import WordCloud\n",
    "import matplotlib.pyplot as plt"
   ]
  },
  {
   "cell_type": "code",
   "execution_count": 71,
   "metadata": {},
   "outputs": [
    {
     "data": {
      "image/png": "[encoded data removed]",
      "text/plain": [
       "<Figure size 432x288 with 1 Axes>"
      ]
     },
     "metadata": {
      "needs_background": "light"
     },
     "output_type": "display_data"
    }
   ],
   "source": [
    "wcloud = WordCloud().generate_from_frequencies(filter_words)\n",
    "plt.imshow(wcloud, interpolation=\"bilinear\")\n",
    "plt.axis(\"off\")\n",
    "plt.show()"
   ]
  },
  {
   "cell_type": "code",
   "execution_count": null,
   "metadata": {},
   "outputs": [],
   "source": []
  }
 ],
 "metadata": {
  "kernelspec": {
   "display_name": "Python 3",
   "language": "python",
   "name": "python3"
  },
  "language_info": {
   "codemirror_mode": {
    "name": "ipython",
    "version": 3
   },
   "file_extension": ".py",
   "mimetype": "text/x-python",
   "name": "python",
   "nbconvert_exporter": "python",
   "pygments_lexer": "ipython3",
   "version": "3.8.5"
  }
 },
 "nbformat": 4,
 "nbformat_minor": 4
}
