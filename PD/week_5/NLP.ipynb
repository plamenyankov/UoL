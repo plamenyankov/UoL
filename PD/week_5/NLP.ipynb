{
 "cells": [
  {
   "cell_type": "markdown",
   "metadata": {},
   "source": [
    "## Install nltk and wordcloud "
   ]
  },
  {
   "cell_type": "code",
   "execution_count": 1,
   "metadata": {},
   "outputs": [
    {
     "name": "stdout",
     "output_type": "stream",
     "text": [
      "Collecting nltk\n",
      "  Downloading nltk-3.6.5-py3-none-any.whl (1.5 MB)\n",
      "\u001b[K     |████████████████████████████████| 1.5 MB 2.1 MB/s eta 0:00:01\n",
      "\u001b[?25hRequirement already satisfied: joblib in /Users/plamenyankov/anaconda3/envs/jupyter-env/lib/python3.8/site-packages (from nltk) (1.0.0)\n",
      "Collecting regex>=2021.8.3\n",
      "  Downloading regex-2021.10.23-cp38-cp38-macosx_10_9_x86_64.whl (288 kB)\n",
      "\u001b[K     |████████████████████████████████| 288 kB 13.1 MB/s eta 0:00:01\n",
      "\u001b[?25hCollecting click\n",
      "  Downloading click-8.0.3-py3-none-any.whl (97 kB)\n",
      "\u001b[K     |████████████████████████████████| 97 kB 7.5 MB/s  eta 0:00:01\n",
      "\u001b[?25hCollecting tqdm\n",
      "  Downloading tqdm-4.62.3-py2.py3-none-any.whl (76 kB)\n",
      "\u001b[K     |████████████████████████████████| 76 kB 4.7 MB/s eta 0:00:01\n",
      "\u001b[?25hInstalling collected packages: tqdm, regex, click, nltk\n",
      "Successfully installed click-8.0.3 nltk-3.6.5 regex-2021.10.23 tqdm-4.62.3\n",
      "Collecting wordcloud\n",
      "  Downloading wordcloud-1.8.1.tar.gz (220 kB)\n",
      "\u001b[K     |████████████████████████████████| 220 kB 694 kB/s eta 0:00:01\n",
      "\u001b[?25hRequirement already satisfied: numpy>=1.6.1 in /Users/plamenyankov/anaconda3/envs/jupyter-env/lib/python3.8/site-packages (from wordcloud) (1.19.2)\n",
      "Requirement already satisfied: pillow in /Users/plamenyankov/anaconda3/envs/jupyter-env/lib/python3.8/site-packages (from wordcloud) (8.0.1)\n",
      "Requirement already satisfied: matplotlib in /Users/plamenyankov/anaconda3/envs/jupyter-env/lib/python3.8/site-packages (from wordcloud) (3.3.2)\n",
      "Requirement already satisfied: kiwisolver>=1.0.1 in /Users/plamenyankov/anaconda3/envs/jupyter-env/lib/python3.8/site-packages (from matplotlib->wordcloud) (1.2.0)\n",
      "Requirement already satisfied: pyparsing!=2.0.4,!=2.1.2,!=2.1.6,>=2.0.3 in /Users/plamenyankov/anaconda3/envs/jupyter-env/lib/python3.8/site-packages (from matplotlib->wordcloud) (2.4.7)\n",
      "Requirement already satisfied: cycler>=0.10 in /Users/plamenyankov/anaconda3/envs/jupyter-env/lib/python3.8/site-packages (from matplotlib->wordcloud) (0.10.0)\n",
      "Requirement already satisfied: python-dateutil>=2.1 in /Users/plamenyankov/anaconda3/envs/jupyter-env/lib/python3.8/site-packages (from matplotlib->wordcloud) (2.8.1)\n",
      "Requirement already satisfied: certifi>=2020.06.20 in /Users/plamenyankov/anaconda3/envs/jupyter-env/lib/python3.8/site-packages (from matplotlib->wordcloud) (2020.6.20)\n",
      "Requirement already satisfied: six in /Users/plamenyankov/anaconda3/envs/jupyter-env/lib/python3.8/site-packages (from cycler>=0.10->matplotlib->wordcloud) (1.15.0)\n",
      "Building wheels for collected packages: wordcloud\n",
      "  Building wheel for wordcloud (setup.py) ... \u001b[?25ldone\n",
      "\u001b[?25h  Created wheel for wordcloud: filename=wordcloud-1.8.1-cp38-cp38-macosx_10_9_x86_64.whl size=158809 sha256=0511382e5a88e203c46aff50cd8e4b65d82bd3802131f6d7ef1dfcfc8b55221b\n",
      "  Stored in directory: /Users/plamenyankov/Library/Caches/pip/wheels/4d/3f/0d/a2ba9b7895c9f1be89018b3141c3df3d4f9c786c882ccfbc3b\n",
      "Successfully built wordcloud\n",
      "Installing collected packages: wordcloud\n",
      "Successfully installed wordcloud-1.8.1\n"
     ]
    }
   ],
   "source": [
    "import sys\n",
    "!{sys.executable} -m pip install nltk\n",
    "!{sys.executable} -m pip install wordcloud"
   ]
  },
  {
   "cell_type": "markdown",
   "metadata": {},
   "source": [
    "### Import nltk and download punkt library "
   ]
  },
  {
   "cell_type": "code",
   "execution_count": 47,
   "metadata": {},
   "outputs": [],
   "source": [
    "import pandas as pd\n",
    "import nltk  \n",
    "# nltk.download('punkt')\n",
    "# sentence=\"I like to dance. It is fun to dance.\""
   ]
  },
  {
   "cell_type": "code",
   "execution_count": 17,
   "metadata": {},
   "outputs": [
    {
     "data": {
      "text/plain": [
       "['I', 'like', 'to', 'dance', '.', 'It', 'is', 'fun', 'to', 'dance', '.']"
      ]
     },
     "execution_count": 17,
     "metadata": {},
     "output_type": "execute_result"
    }
   ],
   "source": [
    "ft = nltk.word_tokenize(sentence)\n",
    "ft"
   ]
  },
  {
   "cell_type": "code",
   "execution_count": 55,
   "metadata": {},
   "outputs": [
    {
     "data": {
      "text/html": [
       "<div>\n",
       "<style scoped>\n",
       "    .dataframe tbody tr th:only-of-type {\n",
       "        vertical-align: middle;\n",
       "    }\n",
       "\n",
       "    .dataframe tbody tr th {\n",
       "        vertical-align: top;\n",
       "    }\n",
       "\n",
       "    .dataframe thead th {\n",
       "        text-align: right;\n",
       "    }\n",
       "</style>\n",
       "<table border=\"1\" class=\"dataframe\">\n",
       "  <thead>\n",
       "    <tr style=\"text-align: right;\">\n",
       "      <th></th>\n",
       "      <th>Response</th>\n",
       "      <th>Submitted on:</th>\n",
       "      <th>somedata</th>\n",
       "      <th>Department</th>\n",
       "      <th>Course</th>\n",
       "      <th>Group</th>\n",
       "      <th>ID</th>\n",
       "      <th>Full name</th>\n",
       "      <th>Username</th>\n",
       "      <th>Q01_Readings</th>\n",
       "      <th>Q02_Activities</th>\n",
       "      <th>Q03_Timing</th>\n",
       "      <th>Q04_Additional</th>\n",
       "    </tr>\n",
       "  </thead>\n",
       "  <tbody>\n",
       "    <tr>\n",
       "      <th>0</th>\n",
       "      <td>1</td>\n",
       "      <td>09/07/2020 11:03:47</td>\n",
       "      <td>null</td>\n",
       "      <td>COMPUTING</td>\n",
       "      <td>CM2015</td>\n",
       "      <td></td>\n",
       "      <td></td>\n",
       "      <td>Anonymous1</td>\n",
       "      <td>Anonymous1</td>\n",
       "      <td>null</td>\n",
       "      <td>null</td>\n",
       "      <td>null</td>\n",
       "      <td>some text</td>\n",
       "    </tr>\n",
       "    <tr>\n",
       "      <th>1</th>\n",
       "      <td>2</td>\n",
       "      <td>09/07/2020 11:03:48</td>\n",
       "      <td>null</td>\n",
       "      <td>COMPUTING</td>\n",
       "      <td>CM2016</td>\n",
       "      <td></td>\n",
       "      <td></td>\n",
       "      <td>Anonymous2</td>\n",
       "      <td>Anonymous2</td>\n",
       "      <td>null</td>\n",
       "      <td>null</td>\n",
       "      <td>null</td>\n",
       "      <td>is here</td>\n",
       "    </tr>\n",
       "    <tr>\n",
       "      <th>2</th>\n",
       "      <td>3</td>\n",
       "      <td>09/07/2020 11:03:49</td>\n",
       "      <td>null</td>\n",
       "      <td>COMPUTING</td>\n",
       "      <td>CM2017</td>\n",
       "      <td></td>\n",
       "      <td></td>\n",
       "      <td>Anonymous3</td>\n",
       "      <td>Anonymous3</td>\n",
       "      <td>null</td>\n",
       "      <td>null</td>\n",
       "      <td>null</td>\n",
       "      <td>and you</td>\n",
       "    </tr>\n",
       "    <tr>\n",
       "      <th>3</th>\n",
       "      <td>4</td>\n",
       "      <td>09/07/2020 11:03:50</td>\n",
       "      <td>null</td>\n",
       "      <td>COMPUTING</td>\n",
       "      <td>CM2018</td>\n",
       "      <td></td>\n",
       "      <td></td>\n",
       "      <td>Anonymous4</td>\n",
       "      <td>Anonymous4</td>\n",
       "      <td>null</td>\n",
       "      <td>null</td>\n",
       "      <td>null</td>\n",
       "      <td>can explore</td>\n",
       "    </tr>\n",
       "    <tr>\n",
       "      <th>4</th>\n",
       "      <td>5</td>\n",
       "      <td>09/07/2020 11:03:51</td>\n",
       "      <td>null</td>\n",
       "      <td>COMPUTING</td>\n",
       "      <td>CM2019</td>\n",
       "      <td></td>\n",
       "      <td></td>\n",
       "      <td>Anonymous5</td>\n",
       "      <td>Anonymous5</td>\n",
       "      <td>null</td>\n",
       "      <td>null</td>\n",
       "      <td>null</td>\n",
       "      <td>the text</td>\n",
       "    </tr>\n",
       "    <tr>\n",
       "      <th>5</th>\n",
       "      <td>6</td>\n",
       "      <td>09/07/2020 11:03:52</td>\n",
       "      <td>null</td>\n",
       "      <td>COMPUTING</td>\n",
       "      <td>CM2020</td>\n",
       "      <td></td>\n",
       "      <td></td>\n",
       "      <td>Anonymous6</td>\n",
       "      <td>Anonymous6</td>\n",
       "      <td>null</td>\n",
       "      <td>null</td>\n",
       "      <td>null</td>\n",
       "      <td>in the examples</td>\n",
       "    </tr>\n",
       "    <tr>\n",
       "      <th>6</th>\n",
       "      <td>7</td>\n",
       "      <td>09/07/2020 11:03:53</td>\n",
       "      <td>null</td>\n",
       "      <td>COMPUTING</td>\n",
       "      <td>CM2021</td>\n",
       "      <td></td>\n",
       "      <td></td>\n",
       "      <td>Anonymous7</td>\n",
       "      <td>Anonymous7</td>\n",
       "      <td>null</td>\n",
       "      <td>null</td>\n",
       "      <td>null</td>\n",
       "      <td>hopefully, this text</td>\n",
       "    </tr>\n",
       "    <tr>\n",
       "      <th>7</th>\n",
       "      <td>8</td>\n",
       "      <td>09/07/2020 11:03:54</td>\n",
       "      <td>null</td>\n",
       "      <td>COMPUTING</td>\n",
       "      <td>CM2022</td>\n",
       "      <td></td>\n",
       "      <td></td>\n",
       "      <td>Anonymous8</td>\n",
       "      <td>Anonymous8</td>\n",
       "      <td>null</td>\n",
       "      <td>null</td>\n",
       "      <td>null</td>\n",
       "      <td>is easy</td>\n",
       "    </tr>\n",
       "    <tr>\n",
       "      <th>8</th>\n",
       "      <td>9</td>\n",
       "      <td>09/07/2020 11:03:55</td>\n",
       "      <td>null</td>\n",
       "      <td>COMPUTING</td>\n",
       "      <td>CM2023</td>\n",
       "      <td></td>\n",
       "      <td></td>\n",
       "      <td>Anonymous9</td>\n",
       "      <td>Anonymous9</td>\n",
       "      <td>null</td>\n",
       "      <td>null</td>\n",
       "      <td>null</td>\n",
       "      <td>to manage</td>\n",
       "    </tr>\n",
       "    <tr>\n",
       "      <th>9</th>\n",
       "      <td>10</td>\n",
       "      <td>09/07/2020 11:03:56</td>\n",
       "      <td>null</td>\n",
       "      <td>COMPUTING</td>\n",
       "      <td>CM2024</td>\n",
       "      <td></td>\n",
       "      <td></td>\n",
       "      <td>Anonymous10</td>\n",
       "      <td>Anonymous10</td>\n",
       "      <td>null</td>\n",
       "      <td>null</td>\n",
       "      <td>null</td>\n",
       "      <td>and to explore</td>\n",
       "    </tr>\n",
       "  </tbody>\n",
       "</table>\n",
       "</div>"
      ],
      "text/plain": [
       "   Response        Submitted on: somedata Department  Course Group ID  \\\n",
       "0         1  09/07/2020 11:03:47     null  COMPUTING  CM2015            \n",
       "1         2  09/07/2020 11:03:48     null  COMPUTING  CM2016            \n",
       "2         3  09/07/2020 11:03:49     null  COMPUTING  CM2017            \n",
       "3         4  09/07/2020 11:03:50     null  COMPUTING  CM2018            \n",
       "4         5  09/07/2020 11:03:51     null  COMPUTING  CM2019            \n",
       "5         6  09/07/2020 11:03:52     null  COMPUTING  CM2020            \n",
       "6         7  09/07/2020 11:03:53     null  COMPUTING  CM2021            \n",
       "7         8  09/07/2020 11:03:54     null  COMPUTING  CM2022            \n",
       "8         9  09/07/2020 11:03:55     null  COMPUTING  CM2023            \n",
       "9        10  09/07/2020 11:03:56     null  COMPUTING  CM2024            \n",
       "\n",
       "     Full name     Username Q01_Readings Q02_Activities Q03_Timing  \\\n",
       "0   Anonymous1   Anonymous1         null           null       null   \n",
       "1   Anonymous2   Anonymous2         null           null       null   \n",
       "2   Anonymous3   Anonymous3         null           null       null   \n",
       "3   Anonymous4   Anonymous4         null           null       null   \n",
       "4   Anonymous5   Anonymous5         null           null       null   \n",
       "5   Anonymous6   Anonymous6         null           null       null   \n",
       "6   Anonymous7   Anonymous7         null           null       null   \n",
       "7   Anonymous8   Anonymous8         null           null       null   \n",
       "8   Anonymous9   Anonymous9         null           null       null   \n",
       "9  Anonymous10  Anonymous10         null           null       null   \n",
       "\n",
       "         Q04_Additional  \n",
       "0             some text  \n",
       "1               is here  \n",
       "2               and you  \n",
       "3           can explore  \n",
       "4              the text  \n",
       "5       in the examples  \n",
       "6  hopefully, this text  \n",
       "7               is easy  \n",
       "8             to manage  \n",
       "9        and to explore  "
      ]
     },
     "execution_count": 55,
     "metadata": {},
     "output_type": "execute_result"
    }
   ],
   "source": [
    "six = pd.read_csv('../data/6.csv', encoding=\"utf-8\", keep_default_na=False,skipinitialspace=True)\n",
    "six.head(10)"
   ]
  },
  {
   "cell_type": "code",
   "execution_count": 49,
   "metadata": {},
   "outputs": [
    {
     "name": "stdout",
     "output_type": "stream",
     "text": [
      "The number of rows: 26\n"
     ]
    }
   ],
   "source": [
    "index = six.index\n",
    "num_rows = len(index)\n",
    "print(\"The number of rows: \" + str(num_rows))"
   ]
  },
  {
   "cell_type": "markdown",
   "metadata": {},
   "source": [
    "* Get the words from Q04_Additional column"
   ]
  },
  {
   "cell_type": "code",
   "execution_count": 69,
   "metadata": {},
   "outputs": [
    {
     "data": {
      "text/plain": [
       "{'explore': 3,\n",
       " 'examples': 1,\n",
       " 'hopefully': 1,\n",
       " 'manage': 1,\n",
       " 'might': 1,\n",
       " 'different': 1,\n",
       " 'techniques': 1,\n",
       " 'order': 1,\n",
       " 'interesting': 1,\n",
       " 'useful': 1,\n",
       " 'things': 1,\n",
       " 'language': 2,\n",
       " 'construct': 1,\n",
       " 'built': 1,\n",
       " 'around': 1,\n",
       " 'structured': 1,\n",
       " 'based': 1}"
      ]
     },
     "execution_count": 69,
     "metadata": {},
     "output_type": "execute_result"
    }
   ],
   "source": [
    "myWords = []\n",
    "for row in six[\"Q04_Additional\"]:\n",
    "    myWords = myWords + nltk.word_tokenize(row)\n",
    "#     print(row)\n",
    "words_analysis = nltk.FreqDist(myWords)\n",
    "filter_words = dict([(m,n) for m,n in words_analysis.items() if len(m) > 4])\n",
    "filter_words"
   ]
  },
  {
   "cell_type": "code",
   "execution_count": 70,
   "metadata": {},
   "outputs": [],
   "source": [
    "from wordcloud import WordCloud\n",
    "import matplotlib.pyplot as plt"
   ]
  },
  {
   "cell_type": "code",
   "execution_count": 72,
   "metadata": {},
   "outputs": [
    {
     "data": {
      "image/png": "[encoded data removed]",
      "text/plain": [
       "<Figure size 432x288 with 1 Axes>"
      ]
     },
     "metadata": {
      "needs_background": "light"
     },
     "output_type": "display_data"
    }
   ],
   "source": [
    "wcloud = WordCloud().generate_from_frequencies(filter_words)\n",
    "plt.imshow(wcloud, interpolation=\"bilinear\")\n",
    "plt.axis(\"off\")\n",
    "plt.show()"
   ]
  },
  {
   "cell_type": "markdown",
   "metadata": {},
   "source": [
    "## Stemming"
   ]
  },
  {
   "cell_type": "code",
   "execution_count": 100,
   "metadata": {},
   "outputs": [],
   "source": [
    "from nltk.stem import PorterStemmer, WordNetLemmatizer"
   ]
  },
  {
   "cell_type": "code",
   "execution_count": 101,
   "metadata": {},
   "outputs": [
    {
     "name": "stdout",
     "output_type": "stream",
     "text": [
      "danc\n",
      "dancer\n",
      "danc\n",
      "danc\n"
     ]
    }
   ],
   "source": [
    "porter = PorterStemmer()\n",
    "e_words = [\"dance\", \"dancer\", \"danced\",\"dancing\"]\n",
    "for w in e_words:\n",
    "    print(porter.stem(w))"
   ]
  },
  {
   "cell_type": "code",
   "execution_count": 103,
   "metadata": {},
   "outputs": [
    {
     "name": "stdout",
     "output_type": "stream",
     "text": [
      "dance\n",
      "dancer\n",
      "dance\n",
      "dance\n"
     ]
    }
   ],
   "source": [
    "lemmatizer = WordNetLemmatizer()\n",
    "for w in e_words:\n",
    "    print(lemmatizer.lemmatize(w, pos='v'))"
   ]
  },
  {
   "cell_type": "code",
   "execution_count": 9,
   "metadata": {},
   "outputs": [
    {
     "name": "stdout",
     "output_type": "stream",
     "text": [
      "['I', 'love', 'UFC', '.', 'However', ',', 'I', 'love', 'to', 'cycle', '!']\n",
      "['I love UFC.', 'However, I love to cycle!']\n"
     ]
    }
   ],
   "source": [
    "from nltk import word_tokenize, sent_tokenize\n",
    "\n",
    "text = \"I love UFC. However, I love to cycle!\"\n",
    "\n",
    "# This will split the sentences to words\n",
    "words = word_tokenize(text)\n",
    "print(words)\n",
    "\n",
    "# This will split the text into sentences\n",
    "sentences = sent_tokenize(text)\n",
    "print(sentences)"
   ]
  },
  {
   "cell_type": "code",
   "execution_count": 17,
   "metadata": {},
   "outputs": [
    {
     "name": "stderr",
     "output_type": "stream",
     "text": [
      "[nltk_data] Downloading package stopwords to\n",
      "[nltk_data]     /Users/plamenyankov/nltk_data...\n",
      "[nltk_data]   Unzipping corpora/stopwords.zip.\n"
     ]
    }
   ],
   "source": [
    "import nltk\n",
    "nltk.download('stopwords')\n",
    "from nltk.corpus import stopwords"
   ]
  },
  {
   "cell_type": "code",
   "execution_count": 18,
   "metadata": {},
   "outputs": [
    {
     "data": {
      "text/plain": [
       "['arabic',\n",
       " 'azerbaijani',\n",
       " 'bengali',\n",
       " 'danish',\n",
       " 'dutch',\n",
       " 'english',\n",
       " 'finnish',\n",
       " 'french',\n",
       " 'german',\n",
       " 'greek',\n",
       " 'hungarian',\n",
       " 'indonesian',\n",
       " 'italian',\n",
       " 'kazakh',\n",
       " 'nepali',\n",
       " 'norwegian',\n",
       " 'portuguese',\n",
       " 'romanian',\n",
       " 'russian',\n",
       " 'slovene',\n",
       " 'spanish',\n",
       " 'swedish',\n",
       " 'tajik',\n",
       " 'turkish']"
      ]
     },
     "execution_count": 18,
     "metadata": {},
     "output_type": "execute_result"
    }
   ],
   "source": [
    "stopwords.fileids()"
   ]
  },
  {
   "cell_type": "code",
   "execution_count": 24,
   "metadata": {},
   "outputs": [
    {
     "name": "stdout",
     "output_type": "stream",
     "text": [
      "Collecting tweepy\n",
      "  Downloading tweepy-4.2.0-py2.py3-none-any.whl (63 kB)\n",
      "\u001b[K     |████████████████████████████████| 63 kB 598 kB/s eta 0:00:011\n",
      "\u001b[?25hCollecting requests<3,>=2.11.1\n",
      "  Downloading requests-2.26.0-py2.py3-none-any.whl (62 kB)\n",
      "\u001b[K     |████████████████████████████████| 62 kB 1.2 MB/s eta 0:00:01\n",
      "\u001b[?25hRequirement already satisfied: certifi>=2017.4.17 in /Users/plamenyankov/anaconda3/envs/jupyter-env/lib/python3.8/site-packages (from requests<3,>=2.11.1->tweepy) (2020.6.20)\n",
      "Collecting charset-normalizer~=2.0.0\n",
      "  Downloading charset_normalizer-2.0.7-py3-none-any.whl (38 kB)\n",
      "Collecting idna<4,>=2.5\n",
      "  Downloading idna-3.3-py3-none-any.whl (61 kB)\n",
      "\u001b[K     |████████████████████████████████| 61 kB 1.6 MB/s eta 0:00:01\n",
      "\u001b[?25hCollecting requests-oauthlib<2,>=1.0.0\n",
      "  Using cached requests_oauthlib-1.3.0-py2.py3-none-any.whl (23 kB)\n",
      "Collecting oauthlib>=3.0.0\n",
      "  Downloading oauthlib-3.1.1-py2.py3-none-any.whl (146 kB)\n",
      "\u001b[K     |████████████████████████████████| 146 kB 1.3 MB/s eta 0:00:01\n",
      "\u001b[?25hCollecting urllib3<1.27,>=1.21.1\n",
      "  Downloading urllib3-1.26.7-py2.py3-none-any.whl (138 kB)\n",
      "\u001b[K     |████████████████████████████████| 138 kB 779 kB/s eta 0:00:01\n",
      "\u001b[?25hInstalling collected packages: urllib3, idna, charset-normalizer, requests, oauthlib, requests-oauthlib, tweepy\n",
      "Successfully installed charset-normalizer-2.0.7 idna-3.3 oauthlib-3.1.1 requests-2.26.0 requests-oauthlib-1.3.0 tweepy-4.2.0 urllib3-1.26.7\n"
     ]
    }
   ],
   "source": [
    "import sys\n",
    "!{sys.executable} -m pip install tweepy"
   ]
  },
  {
   "cell_type": "code",
   "execution_count": 25,
   "metadata": {},
   "outputs": [],
   "source": [
    "import os\n",
    "import tweepy as tw\n",
    "import pandas as pd"
   ]
  },
  {
   "cell_type": "code",
   "execution_count": 26,
   "metadata": {},
   "outputs": [],
   "source": [
    "consumer_key= '7CgiRw9o2SjtqzhPnDHfJwoP2'\n",
    "consumer_secret= 'd9qjBMgoc4RjnvWNY379VuJq0LKAtI6UCyrDohYkF6z7Gsp6UG'\n",
    "access_token= '1451536212309778435-TahNCYmdwPYHWAlBT7zM8usfeKABuZ'\n",
    "access_token_secret= 'elP6tnygdBQRPwySdsXdRgH6edmO9nIyagFjR0vt7EFo6'\n",
    "bearer = 'AAAAAAAAAAAAAAAAAAAAABU3VQEAAAAAASQh4LSbelSU6UcQxtlqE9gpE84%3DWPB4vqGOaw1qDBcXQ95XXMK4vThTNv3JM5NZrZD0PJJZp7F1dJ'"
   ]
  },
  {
   "cell_type": "code",
   "execution_count": 27,
   "metadata": {},
   "outputs": [],
   "source": [
    "auth = tw.OAuthHandler(consumer_key, consumer_secret)\n",
    "auth.set_access_token(access_token, access_token_secret)\n",
    "api = tw.API(auth, wait_on_rate_limit=True)"
   ]
  },
  {
   "cell_type": "code",
   "execution_count": 43,
   "metadata": {},
   "outputs": [],
   "source": [
    "# Define the search term and the date_since date as variables\n",
    "search_words = \"@TheNotoriousMMA\"\n",
    "date_since = \"2021-10-30\""
   ]
  },
  {
   "cell_type": "code",
   "execution_count": 44,
   "metadata": {},
   "outputs": [
    {
     "name": "stderr",
     "output_type": "stream",
     "text": [
      "Unexpected parameter: since\n",
      "Unexpected parameter: since\n",
      "Unexpected parameter: since\n",
      "Unexpected parameter: since\n"
     ]
    },
    {
     "data": {
      "text/plain": [
       "['@TheNotoriousMMA Second oldest. Randy couture',\n",
       " 'RT @TheNotoriousMMA: The oldest first time champion in UFC history, Glover Teixeira! Just wow! \\nProper Motivation!',\n",
       " 'RT @TheNotoriousMMA: The oldest first time champion in UFC history, Glover Teixeira! Just wow! \\nProper Motivation!',\n",
       " '@RosssEdmonds @TheNotoriousMMA @ufc Man thinks he’s wilder',\n",
       " '@TheNotoriousMMA Like you ever gonna win the title with islam about 🤣',\n",
       " 'RT @TheNotoriousMMA: The oldest first time champion in UFC history, Glover Teixeira! Just wow! \\nProper Motivation!',\n",
       " '@macquitterr @RosssEdmonds @TheNotoriousMMA @ufc @DustinPoirier Ah finally a comment that doesn’t have CUCKness to it.   Bravo.',\n",
       " 'RT @TheNotoriousMMA: The oldest first time champion in UFC history, Glover Teixeira! Just wow! \\nProper Motivation!',\n",
       " 'RT @TheNotoriousMMA: The oldest first time champion in UFC history, Glover Teixeira! Just wow! \\nProper Motivation!',\n",
       " 'RT @TheNotoriousMMA: The oldest first time champion in UFC history, Glover Teixeira! Just wow! \\nProper Motivation!',\n",
       " '@SrichandraMeno1 @RosssEdmonds @TheNotoriousMMA @ufc You’re buying into the hype.   God you people are so gullible… https://t.co/quk2vBYoHq',\n",
       " '@austinskilton @KudeRaju @hasbullathegoat @TheNotoriousMMA Sheeiitt I woulda just put him in the overhead compartment',\n",
       " 'RT @TheNotoriousMMA: The oldest first time champion in UFC history, Glover Teixeira! Just wow! \\nProper Motivation!',\n",
       " 'RT @TheNotoriousMMA: The oldest first time champion in UFC history, Glover Teixeira! Just wow! \\nProper Motivation!',\n",
       " 'RT @TheNotoriousMMA: The oldest first time champion in UFC history, Glover Teixeira! Just wow! \\nProper Motivation!',\n",
       " '@TheNotoriousMMA your fight against facchinetti is awesome great job.Italy thanks u',\n",
       " 'RT @TheNotoriousMMA: The oldest first time champion in UFC history, Glover Teixeira! Just wow! \\nProper Motivation!',\n",
       " 'RT @TheNotoriousMMA: The oldest first time champion in UFC history, Glover Teixeira! Just wow! \\nProper Motivation!',\n",
       " 'RT @TheNotoriousMMA: Just incredible! What a sport!',\n",
       " '@RosssEdmonds @TheNotoriousMMA @ufc Looks awful there like',\n",
       " '@GregorMcConor3 @YTItsRyan @yaseenA_ @TheNotoriousMMA Yet you are totally obsessed with the bloke, truly pathetic,… https://t.co/jIpECQuqN8',\n",
       " 'RT @TheNotoriousMMA: The oldest first time champion in UFC history, Glover Teixeira! Just wow! \\nProper Motivation!',\n",
       " '@KhunSanchez @RosssEdmonds @TheNotoriousMMA @ufc Canst one live withinst his own Russian hologram box?\\n\\nratio, sorry',\n",
       " '@mcmullan_cricky @stadamormera_ @TheNotoriousMMA probably doing better than you',\n",
       " '@TheNotoriousMMA Your tweet was quoted in an article by TalkSport https://t.co/AcQ5wZSCAs',\n",
       " 'RT @TheNotoriousMMA: The oldest first time champion in UFC history, Glover Teixeira! Just wow! \\nProper Motivation!',\n",
       " 'VIDEO | @TheNotoriousMMA looks fantastic as he hits pads for the first time #UFC264 \\nhttps://t.co/ItU2z0v7qP',\n",
       " 'RT @TheNotoriousMMA: The oldest first time champion in UFC history, Glover Teixeira! Just wow! \\nProper Motivation!',\n",
       " 'RT @TheNotoriousMMA: The oldest first time champion in UFC history, Glover Teixeira! Just wow! \\nProper Motivation!',\n",
       " \"@TheNotoriousMMA Not for you as mma clearly isn't for you\",\n",
       " 'RT @TheNotoriousMMA: The oldest first time champion in UFC history, Glover Teixeira! Just wow! \\nProper Motivation!',\n",
       " 'RT @TheNotoriousMMA: The oldest first time champion in UFC history, Glover Teixeira! Just wow! \\nProper Motivation!',\n",
       " \"@TheNotoriousMMA All respect to Glover, but he did do it via sub. So the win doesn't really count. When you become… https://t.co/cjcJtwuSVh\",\n",
       " 'RT @TheNotoriousMMA: The oldest first time champion in UFC history, Glover Teixeira! Just wow! \\nProper Motivation!',\n",
       " '@TheNotoriousMMA You like fighting old men.  Why not right.',\n",
       " 'RT @MmaUnderdogs: @TheNotoriousMMA soft, i own you now @TheNotoriousMMA https://t.co/vHcnaWqsSU',\n",
       " 'RT @TheNotoriousMMA: The oldest first time champion in UFC history, Glover Teixeira! Just wow! \\nProper Motivation!',\n",
       " 'RT @TheNotoriousMMA: The oldest first time champion in UFC history, Glover Teixeira! Just wow! \\nProper Motivation!',\n",
       " '@NewNermal @MaajidNawaz @ConceptualJames @TheNotoriousMMA Ivory tower inhabitants often get big lumps of money confused with understanding…',\n",
       " 'RT @TheNotoriousMMA: I don’t give a fuck I just want your money.',\n",
       " 'RT @TheNotoriousMMA: Just incredible! What a sport!',\n",
       " \"@RosssEdmonds @TheNotoriousMMA @ufc He's going to be deadly once he's back in that ring come on McGregor!!!🔥💪\",\n",
       " 'RT @YeagerTodd: $EMAX is on the move! New exchanges imminent, fees being dropped from buys, Certik score, and more!\\n\\n♦️https://t.co/dFjgEaH…',\n",
       " 'RT @TheNotoriousMMA: The oldest first time champion in UFC history, Glover Teixeira! Just wow! \\nProper Motivation!',\n",
       " 'RT @TheNotoriousMMA: The oldest first time champion in UFC history, Glover Teixeira! Just wow! \\nProper Motivation!',\n",
       " '@TheNotoriousMMA conor I wait for your comeback everyday, we still hopeful 🐐',\n",
       " \"@RosssEdmonds @TheNotoriousMMA @ufc Yesss lad ..return of the mac' 🔥😎\",\n",
       " 'RT @TheNotoriousMMA: The oldest first time champion in UFC history, Glover Teixeira! Just wow! \\nProper Motivation!',\n",
       " 'RT @TheNotoriousMMA: The oldest first time champion in UFC history, Glover Teixeira! Just wow! \\nProper Motivation!',\n",
       " '@lachiechad @Dogproofball1 @RosssEdmonds @TheNotoriousMMA @ufc people were getting macho in the replies bro 😂']"
      ]
     },
     "execution_count": 44,
     "metadata": {},
     "output_type": "execute_result"
    }
   ],
   "source": [
    "# Collect tweets\n",
    "tweets = tw.Cursor(api.search_tweets,\n",
    "                       q=search_words,\n",
    "                       lang=\"en\",\n",
    "                       since=date_since).items(50)\n",
    "\n",
    "# Collect a list of tweets\n",
    "[tweet.text for tweet in tweets]"
   ]
  },
  {
   "cell_type": "code",
   "execution_count": null,
   "metadata": {},
   "outputs": [],
   "source": []
  }
 ],
 "metadata": {
  "kernelspec": {
   "display_name": "Python 3",
   "language": "python",
   "name": "python3"
  },
  "language_info": {
   "codemirror_mode": {
    "name": "ipython",
    "version": 3
   },
   "file_extension": ".py",
   "mimetype": "text/x-python",
   "name": "python",
   "nbconvert_exporter": "python",
   "pygments_lexer": "ipython3",
   "version": "3.8.5"
  }
 },
 "nbformat": 4,
 "nbformat_minor": 4
}
