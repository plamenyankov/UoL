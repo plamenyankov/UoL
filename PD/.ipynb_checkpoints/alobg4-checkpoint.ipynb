{
 "cells": [
  {
   "cell_type": "markdown",
   "metadata": {},
   "source": [
    "# Exploring the appartments market in Sofia the capital of Bulgaria"
   ]
  },
  {
   "cell_type": "markdown",
   "metadata": {
    "heading_collapsed": true
   },
   "source": [
    "## 1 Aims, objectives and background"
   ]
  },
  {
   "cell_type": "markdown",
   "metadata": {
    "heading_collapsed": true,
    "hidden": true
   },
   "source": [
    "### 1.1 Introduction"
   ]
  },
  {
   "cell_type": "markdown",
   "metadata": {
    "hidden": true
   },
   "source": [
    "This project is inspired by the idea of finding the best value for money apartment in the capital of Bulgaria, Sofia. The house market in Bulgaria has been consistently growing for the past decade and the prices has been growing accordingly. Sofia is the biggest city in Bulgaria and it’s the fastest growing as well. Many Bulgarians migrate to Sofia to find better paid job and quality of life. It’s a common treat of Bulgarians to own their homes and those who can afford it jump into the opportunity as soon as it’s presents itself. \n",
    "\n",
    "The problem is that prices and value vary and it’s hard even for the most educated to really grasp the market. Therefore, the goal of this project is to help those people by providing them a tool (ML algorithm) that can predict the price of an apartment based on its features. Having that tool people would much easily estimate if the property is over or undervalued.       "
   ]
  },
  {
   "cell_type": "markdown",
   "metadata": {
    "heading_collapsed": true,
    "hidden": true
   },
   "source": [
    "### 1.2 Aims and objectives"
   ]
  },
  {
   "cell_type": "markdown",
   "metadata": {
    "hidden": true
   },
   "source": [
    "The main objective of the project is to explore the real estate market in Sofia and in particular the apartments’ one. Moreover, the goal is to find best value apartments and those which are overpriced based on the data exploratory techniques. Aiming toward that goal the major objectives of the project are:\n",
    "\n",
    "1.\tTo find an appropriate website that is a good sample and represent the house market of Sofia. \n",
    "2.\tTo build a web crawler and collect the data.\n",
    "3.\tFor the purpose of the web crawler to find proxies servers.\n",
    "4.\tTo Clean the data and translate it to English.\n",
    "5.\tTo explore the data by data exploratory techniques.\n",
    "6.\tTo visualize and present those findings.\n",
    "7.\tTo implement Machine Learning algorithm that is efficient and accurate."
   ]
  },
  {
   "cell_type": "markdown",
   "metadata": {
    "heading_collapsed": true,
    "hidden": true
   },
   "source": [
    "### 1.3 Data"
   ]
  },
  {
   "cell_type": "markdown",
   "metadata": {
    "hidden": true
   },
   "source": [
    "#### 1.3.1 Data requirements"
   ]
  },
  {
   "cell_type": "markdown",
   "metadata": {
    "hidden": true
   },
   "source": [
    "For this project the data requirements are the features of an apartment. Mainly, the location, area, rooms, year of construction, property features as electricity and ect. and the price. "
   ]
  },
  {
   "cell_type": "markdown",
   "metadata": {
    "hidden": true
   },
   "source": [
    "#### 1.3.2 Choice of a website for web crawling"
   ]
  },
  {
   "cell_type": "markdown",
   "metadata": {
    "hidden": true
   },
   "source": [
    "Based on my personal knowledge and research, one of the biggest and well know websites that fulfill the data requirements is https://alo.bg. This is a well-known website that serves as a public publishing of all kind of advertising including real estates. \n",
    "\n",
    "Two more options were considered for the data set:\n",
    "\n",
    "* The first option https://www.imot.bg/pcgi/imot.cgi where the features of the real estates were not easy to get since they are combined into plain text and might be a problem to extract them individually. As a pro this website consists more ads.\n",
    "* The second option https://www.imoti.net/bg has almost the same ads a the chosen one, however the website is considerably slower and the data is not as easy to get.\n",
    "\n",
    "\n",
    "That website consists over 4 thousand ads of apartment in Sofia and represent good enough sample of the real estate market."
   ]
  },
  {
   "cell_type": "markdown",
   "metadata": {
    "hidden": true
   },
   "source": [
    "#### 1.3.4 Limitations and constraints of the data"
   ]
  },
  {
   "cell_type": "markdown",
   "metadata": {
    "hidden": true
   },
   "source": [
    "Although, the data from the website has all the major features there are of interest of the project there are still features that are not available such as:\n",
    "* Postcode of the property\n",
    "* Distance to the center, schools, metro stations and other available in proximity facilities\n",
    "* Number of apartments in the building \n",
    "* Not all buildings has a year of construction \n"
   ]
  },
  {
   "cell_type": "markdown",
   "metadata": {
    "heading_collapsed": true,
    "hidden": true
   },
   "source": [
    "### 1.4 Ethical considerations"
   ]
  },
  {
   "cell_type": "markdown",
   "metadata": {
    "hidden": true
   },
   "source": [
    "#### 1.4.1 Use of data "
   ]
  },
  {
   "cell_type": "markdown",
   "metadata": {
    "hidden": true
   },
   "source": [
    "Into the terms and conditions of the website there is no clause forbidding webscrapping. Moreover, into their robots.txt there is no Disallow clause that forbids to be webscrapped. \n",
    "* The ads listing the apartments are not intellectual property.\n",
    "* The terms and conditions state that 'you may download and print portions of the Site for your personal, non-commercial use.'"
   ]
  },
  {
   "cell_type": "markdown",
   "metadata": {
    "hidden": true
   },
   "source": [
    "#### 1.4.2 Use and reause of data"
   ]
  },
  {
   "cell_type": "markdown",
   "metadata": {
    "hidden": true
   },
   "source": [
    "The data that is webscrapped from that particular website could not be used commercially. It’s required to individual seek the author of each ad of apartment that would allow to use the data posted."
   ]
  },
  {
   "cell_type": "code",
   "execution_count": 1,
   "metadata": {
    "hidden": true
   },
   "outputs": [
    {
     "name": "stderr",
     "output_type": "stream",
     "text": [
      "/Users/plamenyankov/.pyenv/versions/3.8.6/envs/lewagon/lib/python3.8/site-packages/pandas/compat/__init__.py:124: UserWarning: Could not import the lzma module. Your installed Python is incomplete. Attempting to use lzma compression will result in a RuntimeError.\n",
      "  warnings.warn(msg)\n"
     ]
    }
   ],
   "source": [
    "import pandas as pd\n",
    "import requests\n",
    "import numpy as np\n",
    "from bs4 import BeautifulSoup\n",
    "import matplotlib.pyplot as plt\n",
    "import seaborn as sns\n",
    "from random import seed\n",
    "from random import random\n",
    "from random import randint\n",
    "from deep_translator import GoogleTranslator\n",
    "import re\n",
    "import os"
   ]
  },
  {
   "cell_type": "markdown",
   "metadata": {},
   "source": [
    "#  Webscapping the website"
   ]
  },
  {
   "cell_type": "markdown",
   "metadata": {},
   "source": [
    "## Get list of proxies"
   ]
  },
  {
   "cell_type": "markdown",
   "metadata": {},
   "source": [
    "Since, the webscrapping requires over 4000 requests for each individual ad to be crawled, there is a big chance that the website would ban my personal IP address. Hence, I will implement requests using proxy servers. The service of my choice provides a webpage that renew all the proxies on 30 minutes interval. Therefore, I will implement a webscrapping to automatically get the proxies and save them to a text file for further usage.\n",
    "* Scrape webpage with working proxies (paid subscription) that guaranties that all proxies are working. The webservice that provides the proxies is https://free-proxy-list.net/. Since, all free listed proxies are not working or inconsistent I decided to used the premium option and get 3000 working proxies.\n",
    "* For security reason I am not going to provide my credentials. However, I am providing the code that I wrote to get the proxies and save them into a txt file called ips.txt.\n"
   ]
  },
  {
   "cell_type": "code",
   "execution_count": 2,
   "metadata": {},
   "outputs": [],
   "source": [
    "def getListOfProxies():\n",
    "    \n",
    "    # check if the list of ips exists\n",
    "    if os.path.exists('./ips.txt') == False:\n",
    "        url_prox = \"http://list.didsoft.com/get?email=email&pass=password&pid=http3000&showcountry=no\"\n",
    "        ips_raw = getHTML(url_prox)\n",
    "    \n",
    "    # write the ips to a file\n",
    "        ips_file = open('ips.txt',\"w\") \n",
    "        ips_file.writelines(\"ips\\n\")\n",
    "        for i in ips_raw.contents[0].split('\\n'):\n",
    "            ips_file.writelines(\"{}\\n\".format(i))    \n",
    "        ips_file.close() \n",
    "\n",
    "    # if the ips from the list and return them    \n",
    "    proxies_df = pd.read_csv('ips.txt')\n",
    "    \n",
    "    return proxies_df\n",
    "\n",
    "\n",
    "def getProxy():\n",
    "    proxy = {\n",
    "      \"ip\": proxies_df['ips'][randint(1,len(proxies_df['ips'])-1)]\n",
    "    }\n",
    "    \n",
    "    return proxy"
   ]
  },
  {
   "cell_type": "markdown",
   "metadata": {},
   "source": [
    "###  List the first 5 proxies "
   ]
  },
  {
   "cell_type": "code",
   "execution_count": 3,
   "metadata": {},
   "outputs": [
    {
     "data": {
      "text/html": [
       "<div>\n",
       "<style scoped>\n",
       "    .dataframe tbody tr th:only-of-type {\n",
       "        vertical-align: middle;\n",
       "    }\n",
       "\n",
       "    .dataframe tbody tr th {\n",
       "        vertical-align: top;\n",
       "    }\n",
       "\n",
       "    .dataframe thead th {\n",
       "        text-align: right;\n",
       "    }\n",
       "</style>\n",
       "<table border=\"1\" class=\"dataframe\">\n",
       "  <thead>\n",
       "    <tr style=\"text-align: right;\">\n",
       "      <th></th>\n",
       "      <th>ips</th>\n",
       "    </tr>\n",
       "  </thead>\n",
       "  <tbody>\n",
       "    <tr>\n",
       "      <th>0</th>\n",
       "      <td>185.77.221.67:8085</td>\n",
       "    </tr>\n",
       "    <tr>\n",
       "      <th>1</th>\n",
       "      <td>81.174.11.159:61743</td>\n",
       "    </tr>\n",
       "    <tr>\n",
       "      <th>2</th>\n",
       "      <td>77.83.85.246:8085</td>\n",
       "    </tr>\n",
       "    <tr>\n",
       "      <th>3</th>\n",
       "      <td>88.218.65.131:8085</td>\n",
       "    </tr>\n",
       "    <tr>\n",
       "      <th>4</th>\n",
       "      <td>168.138.177.148:3128</td>\n",
       "    </tr>\n",
       "  </tbody>\n",
       "</table>\n",
       "</div>"
      ],
      "text/plain": [
       "                    ips\n",
       "0    185.77.221.67:8085\n",
       "1   81.174.11.159:61743\n",
       "2     77.83.85.246:8085\n",
       "3    88.218.65.131:8085\n",
       "4  168.138.177.148:3128"
      ]
     },
     "execution_count": 3,
     "metadata": {},
     "output_type": "execute_result"
    }
   ],
   "source": [
    "proxies_df = getListOfProxies()\n",
    "proxies_df[:5]"
   ]
  },
  {
   "cell_type": "markdown",
   "metadata": {},
   "source": [
    "## Webscrapping the apartments"
   ]
  },
  {
   "cell_type": "markdown",
   "metadata": {},
   "source": [
    "* Get the numbers of pages to be scrapped\n",
    "* Get the list of all urls to be scrapped\n",
    "* Extract Data from HTML\n",
    "* Make a DataFrame of data"
   ]
  },
  {
   "cell_type": "code",
   "execution_count": 36,
   "metadata": {},
   "outputs": [],
   "source": [
    "# BaseUrl is the domain of the website and the URL is the particular page where apartments in Sofia are listed\n",
    "baseUrl = 'https://alo.bg/'\n",
    "URL = \"https://www.alo.bg/obiavi/imoti-prodajbi/apartamenti-stai/?region_id=22&location_ids=4342\"\n",
    "\n",
    "\n",
    "def getHTML(url):\n",
    "    \n",
    "    headers = {\"User-Agent\":\"Mozilla/5.0 (Windows NT 10.0; Win64; x64; rv:66.0) Gecko/20100101 Firefox/93.0\",\n",
    "               \"Upgrade-Insecure-Requests\":\"1\", \n",
    "               \"Accept\":\"text/html,application/xhtml+xml,application/xml;q=0.9,*/*;q=0.8\", \n",
    "               \"Accept-Encoding\":\"gzip, deflate, br\", \n",
    "               \"Accept-Language\": \"en-GB,en-US;q=0.9,en;q=0.8\",\n",
    "               \"DNT\":\"1\"}\n",
    "    \n",
    "    proxy = getProxy()\n",
    "    \n",
    "    # get the html page\n",
    "    page = requests.get(url, headers=headers, proxies=proxy)\n",
    "    \n",
    "    # parse the text from the request to html with beautifulSoup \n",
    "    html = BeautifulSoup(page.content, \"html.parser\")\n",
    "    \n",
    "    return html\n",
    "\n",
    "\n",
    "def getNumberOfPages(baseUrl):\n",
    "    \n",
    "    html = getHTML(baseUrl)\n",
    "    \n",
    "    # Single request to the URL to get the number of pages from the pagination buttons\n",
    "    \n",
    "    pagination = html.find_all(\"a\", class_=\"disabled_\")[1]\n",
    "    numberOfPages = int(pagination.text)\n",
    "    \n",
    "    print('Number of pages: ',numberOfPages)\n",
    "    \n",
    "    return numberOfPages\n",
    "\n",
    "def getRealEstatesURLs(baseUrl):\n",
    "    \n",
    "    individual_urls = []\n",
    "    numberOfPages = getNumberOfPages(URL)\n",
    "    \n",
    "    # Crawl through all the number of pages to get each individual link to the ads\n",
    "    # There are aprox. 150 pages that contains 30 ads per page. Aprox. 4500 ads in total\n",
    "    \n",
    "    for page in range(1, numberOfPages+1):\n",
    "\n",
    "        html = getHTML(URL+'&page=' + str(page))\n",
    "        vipItems = html.find_all(\"div\", class_=\"listvip-item\")\n",
    "        for i in vipItems:\n",
    "            individual_urls.append(i.get('id').replace('adrows_',''))\n",
    "            \n",
    "    return individual_urls    \n",
    "    "
   ]
  },
  {
   "cell_type": "code",
   "execution_count": 37,
   "metadata": {},
   "outputs": [],
   "source": [
    "def getPriceFromHTML(html):\n",
    "    \n",
    "    # get the price element \n",
    "    price = html.find('div', class_='ads-params-price')\n",
    "    \n",
    "    # implement a bit of cleanning to get just the integer\n",
    "    price = price.text.replace(u'\\xa0', '').replace(u',', '')\n",
    "    price = re.findall(r'(\\d+)',price)\n",
    "    \n",
    "    # return the price if any or return 0\n",
    "    if len(price) > 0:\n",
    "        return price[0]\n",
    "    else:\n",
    "        return 0\n",
    "    \n",
    "def getParamsFromHTML(html):\n",
    "    \n",
    "    aparts_dict = {}\n",
    "    \n",
    "    # parse the two major elements that contain data\n",
    "    \n",
    "    single_row = html.find_all('div', class_='ads-params-row')\n",
    "    multiple_rows = html.find_all('span', class_='ads-params-multi')\n",
    "    \n",
    "    for row in single_row:\n",
    "        \n",
    "        param = row.find('span', class_='ads-params-single')\n",
    "        \n",
    "        if param:\n",
    "            # use the description of the element as a key and the params as a value \n",
    "            aparts_dict[row.find('div', class_='ads-param-title').text] = param.text\n",
    "            \n",
    "        # Find the element that contains the location of the apartment\n",
    "        \n",
    "        location = row.find('div',class_=\"ads-params-cell ads-params-price animation-element bounce-up\")\n",
    "        \n",
    "        if location:\n",
    "            \n",
    "            neighbourhood = row.find('div', class_='ads-param-title').text\n",
    "            if neighbourhood == 'Местоположение:':\n",
    "                aparts_dict['Location'] = location.text\n",
    " \n",
    "    # All the options as electricity, elevator, furniture and etc. are in the same element as a block\n",
    "    # and those options are not available for all apartment, therefore I will use the option as a key  \n",
    "    # and set the value to 1 if not available.\n",
    "    \n",
    "    if len(multiple_rows) > 0:\n",
    "        for rows in multiple_rows:\n",
    "            aparts_dict[rows.text] = 1 \n",
    "    \n",
    "    # I call separate function with the html that will parse the html and do a little bit of cleanning \n",
    "    # and return the price if any as an integer\n",
    "    \n",
    "    aparts_dict['price'] = getPriceFromHTML(html)\n",
    "    \n",
    "    return aparts_dict\n",
    "\n",
    "\n",
    "def crawler():\n",
    "    \n",
    "    aparts_arr = []\n",
    "    \n",
    "    # loop through all individual ads and get the params of the apartments as a dictionary \n",
    "    for idx,url_id in enumerate(listOfUrls):\n",
    "        \n",
    "        # append the individual id number to the base url\n",
    "        apartUrl = baseUrl+str(url_id)\n",
    "        \n",
    "        # get the html for the ad\n",
    "        html = getHTML(apartUrl)\n",
    "        \n",
    "        # get all params as a dictionary\n",
    "        dict_of_params = getParamsFromHTML(html)\n",
    "        \n",
    "        # append the dictionary to a list \n",
    "        aparts_arr.append(dict_of_params)\n",
    "\n",
    "    return aparts_arr\n"
   ]
  },
  {
   "cell_type": "markdown",
   "metadata": {},
   "source": [
    "### Get the list of Urls and Scrap the website"
   ]
  },
  {
   "cell_type": "code",
   "execution_count": 43,
   "metadata": {},
   "outputs": [],
   "source": [
    "listOfUrls = getRealEstatesURLs(URL)\n",
    "list_of_apartments = crawler()"
   ]
  },
  {
   "cell_type": "markdown",
   "metadata": {},
   "source": [
    "### Save scrapped data to dataframe"
   ]
  },
  {
   "cell_type": "code",
   "execution_count": 47,
   "metadata": {},
   "outputs": [],
   "source": [
    "df_aparts = pd.DataFrame(list_of_apartments)"
   ]
  },
  {
   "cell_type": "markdown",
   "metadata": {},
   "source": [
    "### Check the dataframe"
   ]
  },
  {
   "cell_type": "code",
   "execution_count": 48,
   "metadata": {},
   "outputs": [
    {
     "data": {
      "text/html": [
       "<div>\n",
       "<style scoped>\n",
       "    .dataframe tbody tr th:only-of-type {\n",
       "        vertical-align: middle;\n",
       "    }\n",
       "\n",
       "    .dataframe tbody tr th {\n",
       "        vertical-align: top;\n",
       "    }\n",
       "\n",
       "    .dataframe thead th {\n",
       "        text-align: right;\n",
       "    }\n",
       "</style>\n",
       "<table border=\"1\" class=\"dataframe\">\n",
       "  <thead>\n",
       "    <tr style=\"text-align: right;\">\n",
       "      <th></th>\n",
       "      <th>Обява от:</th>\n",
       "      <th>Location</th>\n",
       "      <th>Вид на имота:</th>\n",
       "      <th>Квадратура:</th>\n",
       "      <th>Вид строителство:</th>\n",
       "      <th>Година на строителство:</th>\n",
       "      <th>Степен на завършеност:</th>\n",
       "      <th>Номер на етажа:</th>\n",
       "      <th>Етаж:</th>\n",
       "      <th>Асансьор</th>\n",
       "      <th>...</th>\n",
       "      <th>Локално отопление</th>\n",
       "      <th>Необзаведен</th>\n",
       "      <th>Панорама планина</th>\n",
       "      <th>Саниран</th>\n",
       "      <th>Гараж/Паркомясто</th>\n",
       "      <th>След ремонт</th>\n",
       "      <th>Замяна/Бартер</th>\n",
       "      <th>Лизинг</th>\n",
       "      <th>Камина</th>\n",
       "      <th>Ипотекиран</th>\n",
       "    </tr>\n",
       "  </thead>\n",
       "  <tbody>\n",
       "    <tr>\n",
       "      <th>0</th>\n",
       "      <td>http://koevski.alo.bg</td>\n",
       "      <td>Хаджи Димитър, град София, област  София, (Виж...</td>\n",
       "      <td>Тристаен апартамент</td>\n",
       "      <td>99 кв.м</td>\n",
       "      <td>Тухла</td>\n",
       "      <td>2022 г. (годината може да е ориентировъчна)</td>\n",
       "      <td>Готов (завършен)</td>\n",
       "      <td>2 етаж</td>\n",
       "      <td>Непоследен</td>\n",
       "      <td>1.0</td>\n",
       "      <td>...</td>\n",
       "      <td>NaN</td>\n",
       "      <td>NaN</td>\n",
       "      <td>NaN</td>\n",
       "      <td>NaN</td>\n",
       "      <td>NaN</td>\n",
       "      <td>NaN</td>\n",
       "      <td>NaN</td>\n",
       "      <td>NaN</td>\n",
       "      <td>NaN</td>\n",
       "      <td>NaN</td>\n",
       "    </tr>\n",
       "    <tr>\n",
       "      <th>1</th>\n",
       "      <td>NaN</td>\n",
       "      <td>Оборище, град София, област  София, (Виж Обори...</td>\n",
       "      <td>Двустаен апартамент</td>\n",
       "      <td>75 кв.м</td>\n",
       "      <td>Тухла</td>\n",
       "      <td>2007 г. (годината може да е ориентировъчна)</td>\n",
       "      <td>Готов (завършен)</td>\n",
       "      <td>2 етаж</td>\n",
       "      <td>Непоследен</td>\n",
       "      <td>1.0</td>\n",
       "      <td>...</td>\n",
       "      <td>NaN</td>\n",
       "      <td>NaN</td>\n",
       "      <td>NaN</td>\n",
       "      <td>NaN</td>\n",
       "      <td>NaN</td>\n",
       "      <td>NaN</td>\n",
       "      <td>NaN</td>\n",
       "      <td>NaN</td>\n",
       "      <td>NaN</td>\n",
       "      <td>NaN</td>\n",
       "    </tr>\n",
       "    <tr>\n",
       "      <th>2</th>\n",
       "      <td>NaN</td>\n",
       "      <td>Витоша, град София, област  София\\n\\t\\t\\t</td>\n",
       "      <td>Двустаен апартамент</td>\n",
       "      <td>73 кв.м</td>\n",
       "      <td>Тухла</td>\n",
       "      <td>NaN</td>\n",
       "      <td>Готов (завършен)</td>\n",
       "      <td>6 етаж</td>\n",
       "      <td>Непоследен</td>\n",
       "      <td>1.0</td>\n",
       "      <td>...</td>\n",
       "      <td>NaN</td>\n",
       "      <td>NaN</td>\n",
       "      <td>NaN</td>\n",
       "      <td>NaN</td>\n",
       "      <td>NaN</td>\n",
       "      <td>NaN</td>\n",
       "      <td>NaN</td>\n",
       "      <td>NaN</td>\n",
       "      <td>NaN</td>\n",
       "      <td>NaN</td>\n",
       "    </tr>\n",
       "    <tr>\n",
       "      <th>3</th>\n",
       "      <td>NaN</td>\n",
       "      <td>Овча Купел, град София, област  София, (Виж Ов...</td>\n",
       "      <td>Двустаен апартамент</td>\n",
       "      <td>70 кв.м</td>\n",
       "      <td>Тухла</td>\n",
       "      <td>NaN</td>\n",
       "      <td>Готов (завършен)</td>\n",
       "      <td>10 етаж</td>\n",
       "      <td>Последен етаж</td>\n",
       "      <td>NaN</td>\n",
       "      <td>...</td>\n",
       "      <td>NaN</td>\n",
       "      <td>NaN</td>\n",
       "      <td>NaN</td>\n",
       "      <td>NaN</td>\n",
       "      <td>NaN</td>\n",
       "      <td>NaN</td>\n",
       "      <td>NaN</td>\n",
       "      <td>NaN</td>\n",
       "      <td>NaN</td>\n",
       "      <td>NaN</td>\n",
       "    </tr>\n",
       "    <tr>\n",
       "      <th>4</th>\n",
       "      <td>NaN</td>\n",
       "      <td>Люлин 5, град София, област  София\\n\\t\\t\\t</td>\n",
       "      <td>Тристаен апартамент</td>\n",
       "      <td>88 кв.м</td>\n",
       "      <td>ЕПК/ПК</td>\n",
       "      <td>1991 г. (годината може да е ориентировъчна)</td>\n",
       "      <td>Готов (завършен)</td>\n",
       "      <td>11 етаж</td>\n",
       "      <td>Непоследен</td>\n",
       "      <td>NaN</td>\n",
       "      <td>...</td>\n",
       "      <td>NaN</td>\n",
       "      <td>NaN</td>\n",
       "      <td>NaN</td>\n",
       "      <td>NaN</td>\n",
       "      <td>NaN</td>\n",
       "      <td>NaN</td>\n",
       "      <td>NaN</td>\n",
       "      <td>NaN</td>\n",
       "      <td>NaN</td>\n",
       "      <td>NaN</td>\n",
       "    </tr>\n",
       "  </tbody>\n",
       "</table>\n",
       "<p>5 rows × 26 columns</p>\n",
       "</div>"
      ],
      "text/plain": [
       "               Обява от:                                           Location  \\\n",
       "0  http://koevski.alo.bg  Хаджи Димитър, град София, област  София, (Виж...   \n",
       "1                    NaN  Оборище, град София, област  София, (Виж Обори...   \n",
       "2                    NaN          Витоша, град София, област  София\\n\\t\\t\\t   \n",
       "3                    NaN  Овча Купел, град София, област  София, (Виж Ов...   \n",
       "4                    NaN         Люлин 5, град София, област  София\\n\\t\\t\\t   \n",
       "\n",
       "         Вид на имота: Квадратура: Вид строителство:  \\\n",
       "0  Тристаен апартамент     99 кв.м             Тухла   \n",
       "1  Двустаен апартамент     75 кв.м             Тухла   \n",
       "2  Двустаен апартамент     73 кв.м             Тухла   \n",
       "3  Двустаен апартамент     70 кв.м             Тухла   \n",
       "4  Тристаен апартамент     88 кв.м            ЕПК/ПК   \n",
       "\n",
       "                       Година на строителство: Степен на завършеност:  \\\n",
       "0  2022 г. (годината може да е ориентировъчна)       Готов (завършен)   \n",
       "1  2007 г. (годината може да е ориентировъчна)       Готов (завършен)   \n",
       "2                                          NaN       Готов (завършен)   \n",
       "3                                          NaN       Готов (завършен)   \n",
       "4  1991 г. (годината може да е ориентировъчна)       Готов (завършен)   \n",
       "\n",
       "  Номер на етажа:          Етаж:  Асансьор  ... Локално отопление  \\\n",
       "0          2 етаж     Непоследен       1.0  ...               NaN   \n",
       "1          2 етаж     Непоследен       1.0  ...               NaN   \n",
       "2          6 етаж     Непоследен       1.0  ...               NaN   \n",
       "3         10 етаж  Последен етаж       NaN  ...               NaN   \n",
       "4         11 етаж     Непоследен       NaN  ...               NaN   \n",
       "\n",
       "   Необзаведен  Панорама планина  Саниран  Гараж/Паркомясто  След ремонт  \\\n",
       "0          NaN               NaN      NaN               NaN          NaN   \n",
       "1          NaN               NaN      NaN               NaN          NaN   \n",
       "2          NaN               NaN      NaN               NaN          NaN   \n",
       "3          NaN               NaN      NaN               NaN          NaN   \n",
       "4          NaN               NaN      NaN               NaN          NaN   \n",
       "\n",
       "   Замяна/Бартер  Лизинг  Камина  Ипотекиран  \n",
       "0            NaN     NaN     NaN         NaN  \n",
       "1            NaN     NaN     NaN         NaN  \n",
       "2            NaN     NaN     NaN         NaN  \n",
       "3            NaN     NaN     NaN         NaN  \n",
       "4            NaN     NaN     NaN         NaN  \n",
       "\n",
       "[5 rows x 26 columns]"
      ]
     },
     "execution_count": 48,
     "metadata": {},
     "output_type": "execute_result"
    }
   ],
   "source": [
    "df_aparts.head()"
   ]
  },
  {
   "cell_type": "code",
   "execution_count": 57,
   "metadata": {},
   "outputs": [
    {
     "name": "stdout",
     "output_type": "stream",
     "text": [
      "The dataset has 4397 rows and 26 columns\n"
     ]
    }
   ],
   "source": [
    "print(f\"The dataset has {df_aparts.shape[0]} rows and {df_aparts.shape[1]} columns\")"
   ]
  },
  {
   "cell_type": "markdown",
   "metadata": {},
   "source": [
    "## Save data to File"
   ]
  },
  {
   "cell_type": "code",
   "execution_count": 3,
   "metadata": {},
   "outputs": [],
   "source": [
    "df_aparts.to_csv('apartments_from_alo.csv', index=False)"
   ]
  },
  {
   "cell_type": "markdown",
   "metadata": {},
   "source": [
    "##  Import previously scraped data"
   ]
  },
  {
   "cell_type": "markdown",
   "metadata": {},
   "source": [
    "Import previously scraped data from a file because it takes about 30 minutes to scrape each time and also to ensure consistency and replicable results, for the remainder of the project."
   ]
  },
  {
   "cell_type": "code",
   "execution_count": 4,
   "metadata": {},
   "outputs": [
    {
     "data": {
      "text/html": [
       "<div>\n",
       "<style scoped>\n",
       "    .dataframe tbody tr th:only-of-type {\n",
       "        vertical-align: middle;\n",
       "    }\n",
       "\n",
       "    .dataframe tbody tr th {\n",
       "        vertical-align: top;\n",
       "    }\n",
       "\n",
       "    .dataframe thead th {\n",
       "        text-align: right;\n",
       "    }\n",
       "</style>\n",
       "<table border=\"1\" class=\"dataframe\">\n",
       "  <thead>\n",
       "    <tr style=\"text-align: right;\">\n",
       "      <th></th>\n",
       "      <th>Обява от:</th>\n",
       "      <th>Location</th>\n",
       "      <th>Вид на имота:</th>\n",
       "      <th>Квадратура:</th>\n",
       "      <th>Вид строителство:</th>\n",
       "      <th>Година на строителство:</th>\n",
       "      <th>Степен на завършеност:</th>\n",
       "      <th>Номер на етажа:</th>\n",
       "      <th>Етаж:</th>\n",
       "      <th>Асансьор</th>\n",
       "      <th>...</th>\n",
       "      <th>Локално отопление</th>\n",
       "      <th>Необзаведен</th>\n",
       "      <th>Панорама планина</th>\n",
       "      <th>Саниран</th>\n",
       "      <th>Гараж/Паркомясто</th>\n",
       "      <th>След ремонт</th>\n",
       "      <th>Замяна/Бартер</th>\n",
       "      <th>Лизинг</th>\n",
       "      <th>Камина</th>\n",
       "      <th>Ипотекиран</th>\n",
       "    </tr>\n",
       "  </thead>\n",
       "  <tbody>\n",
       "    <tr>\n",
       "      <th>0</th>\n",
       "      <td>http://koevski.alo.bg</td>\n",
       "      <td>Хаджи Димитър, град София, област  София, (Виж...</td>\n",
       "      <td>Тристаен апартамент</td>\n",
       "      <td>99 кв.м</td>\n",
       "      <td>Тухла</td>\n",
       "      <td>2022 г. (годината може да е ориентировъчна)</td>\n",
       "      <td>Готов (завършен)</td>\n",
       "      <td>2 етаж</td>\n",
       "      <td>Непоследен</td>\n",
       "      <td>1.0</td>\n",
       "      <td>...</td>\n",
       "      <td>NaN</td>\n",
       "      <td>NaN</td>\n",
       "      <td>NaN</td>\n",
       "      <td>NaN</td>\n",
       "      <td>NaN</td>\n",
       "      <td>NaN</td>\n",
       "      <td>NaN</td>\n",
       "      <td>NaN</td>\n",
       "      <td>NaN</td>\n",
       "      <td>NaN</td>\n",
       "    </tr>\n",
       "    <tr>\n",
       "      <th>1</th>\n",
       "      <td>NaN</td>\n",
       "      <td>Оборище, град София, област  София, (Виж Обори...</td>\n",
       "      <td>Двустаен апартамент</td>\n",
       "      <td>75 кв.м</td>\n",
       "      <td>Тухла</td>\n",
       "      <td>2007 г. (годината може да е ориентировъчна)</td>\n",
       "      <td>Готов (завършен)</td>\n",
       "      <td>2 етаж</td>\n",
       "      <td>Непоследен</td>\n",
       "      <td>1.0</td>\n",
       "      <td>...</td>\n",
       "      <td>NaN</td>\n",
       "      <td>NaN</td>\n",
       "      <td>NaN</td>\n",
       "      <td>NaN</td>\n",
       "      <td>NaN</td>\n",
       "      <td>NaN</td>\n",
       "      <td>NaN</td>\n",
       "      <td>NaN</td>\n",
       "      <td>NaN</td>\n",
       "      <td>NaN</td>\n",
       "    </tr>\n",
       "    <tr>\n",
       "      <th>2</th>\n",
       "      <td>NaN</td>\n",
       "      <td>Витоша, град София, област  София\\n\\t\\t\\t</td>\n",
       "      <td>Двустаен апартамент</td>\n",
       "      <td>73 кв.м</td>\n",
       "      <td>Тухла</td>\n",
       "      <td>NaN</td>\n",
       "      <td>Готов (завършен)</td>\n",
       "      <td>6 етаж</td>\n",
       "      <td>Непоследен</td>\n",
       "      <td>1.0</td>\n",
       "      <td>...</td>\n",
       "      <td>NaN</td>\n",
       "      <td>NaN</td>\n",
       "      <td>NaN</td>\n",
       "      <td>NaN</td>\n",
       "      <td>NaN</td>\n",
       "      <td>NaN</td>\n",
       "      <td>NaN</td>\n",
       "      <td>NaN</td>\n",
       "      <td>NaN</td>\n",
       "      <td>NaN</td>\n",
       "    </tr>\n",
       "    <tr>\n",
       "      <th>3</th>\n",
       "      <td>NaN</td>\n",
       "      <td>Овча Купел, град София, област  София, (Виж Ов...</td>\n",
       "      <td>Двустаен апартамент</td>\n",
       "      <td>70 кв.м</td>\n",
       "      <td>Тухла</td>\n",
       "      <td>NaN</td>\n",
       "      <td>Готов (завършен)</td>\n",
       "      <td>10 етаж</td>\n",
       "      <td>Последен етаж</td>\n",
       "      <td>NaN</td>\n",
       "      <td>...</td>\n",
       "      <td>NaN</td>\n",
       "      <td>NaN</td>\n",
       "      <td>NaN</td>\n",
       "      <td>NaN</td>\n",
       "      <td>NaN</td>\n",
       "      <td>NaN</td>\n",
       "      <td>NaN</td>\n",
       "      <td>NaN</td>\n",
       "      <td>NaN</td>\n",
       "      <td>NaN</td>\n",
       "    </tr>\n",
       "    <tr>\n",
       "      <th>4</th>\n",
       "      <td>NaN</td>\n",
       "      <td>Люлин 5, град София, област  София\\n\\t\\t\\t</td>\n",
       "      <td>Тристаен апартамент</td>\n",
       "      <td>88 кв.м</td>\n",
       "      <td>ЕПК/ПК</td>\n",
       "      <td>1991 г. (годината може да е ориентировъчна)</td>\n",
       "      <td>Готов (завършен)</td>\n",
       "      <td>11 етаж</td>\n",
       "      <td>Непоследен</td>\n",
       "      <td>NaN</td>\n",
       "      <td>...</td>\n",
       "      <td>NaN</td>\n",
       "      <td>NaN</td>\n",
       "      <td>NaN</td>\n",
       "      <td>NaN</td>\n",
       "      <td>NaN</td>\n",
       "      <td>NaN</td>\n",
       "      <td>NaN</td>\n",
       "      <td>NaN</td>\n",
       "      <td>NaN</td>\n",
       "      <td>NaN</td>\n",
       "    </tr>\n",
       "  </tbody>\n",
       "</table>\n",
       "<p>5 rows × 26 columns</p>\n",
       "</div>"
      ],
      "text/plain": [
       "               Обява от:                                           Location  \\\n",
       "0  http://koevski.alo.bg  Хаджи Димитър, град София, област  София, (Виж...   \n",
       "1                    NaN  Оборище, град София, област  София, (Виж Обори...   \n",
       "2                    NaN          Витоша, град София, област  София\\n\\t\\t\\t   \n",
       "3                    NaN  Овча Купел, град София, област  София, (Виж Ов...   \n",
       "4                    NaN         Люлин 5, град София, област  София\\n\\t\\t\\t   \n",
       "\n",
       "         Вид на имота: Квадратура: Вид строителство:  \\\n",
       "0  Тристаен апартамент     99 кв.м             Тухла   \n",
       "1  Двустаен апартамент     75 кв.м             Тухла   \n",
       "2  Двустаен апартамент     73 кв.м             Тухла   \n",
       "3  Двустаен апартамент     70 кв.м             Тухла   \n",
       "4  Тристаен апартамент     88 кв.м            ЕПК/ПК   \n",
       "\n",
       "                       Година на строителство: Степен на завършеност:  \\\n",
       "0  2022 г. (годината може да е ориентировъчна)       Готов (завършен)   \n",
       "1  2007 г. (годината може да е ориентировъчна)       Готов (завършен)   \n",
       "2                                          NaN       Готов (завършен)   \n",
       "3                                          NaN       Готов (завършен)   \n",
       "4  1991 г. (годината може да е ориентировъчна)       Готов (завършен)   \n",
       "\n",
       "  Номер на етажа:          Етаж:  Асансьор  ...  Локално отопление  \\\n",
       "0          2 етаж     Непоследен       1.0  ...                NaN   \n",
       "1          2 етаж     Непоследен       1.0  ...                NaN   \n",
       "2          6 етаж     Непоследен       1.0  ...                NaN   \n",
       "3         10 етаж  Последен етаж       NaN  ...                NaN   \n",
       "4         11 етаж     Непоследен       NaN  ...                NaN   \n",
       "\n",
       "   Необзаведен  Панорама планина  Саниран  Гараж/Паркомясто  След ремонт  \\\n",
       "0          NaN               NaN      NaN               NaN          NaN   \n",
       "1          NaN               NaN      NaN               NaN          NaN   \n",
       "2          NaN               NaN      NaN               NaN          NaN   \n",
       "3          NaN               NaN      NaN               NaN          NaN   \n",
       "4          NaN               NaN      NaN               NaN          NaN   \n",
       "\n",
       "   Замяна/Бартер  Лизинг  Камина  Ипотекиран  \n",
       "0            NaN     NaN     NaN         NaN  \n",
       "1            NaN     NaN     NaN         NaN  \n",
       "2            NaN     NaN     NaN         NaN  \n",
       "3            NaN     NaN     NaN         NaN  \n",
       "4            NaN     NaN     NaN         NaN  \n",
       "\n",
       "[5 rows x 26 columns]"
      ]
     },
     "execution_count": 4,
     "metadata": {},
     "output_type": "execute_result"
    }
   ],
   "source": [
    "df_from_file = pd.read_csv('apartments_from_alo.csv')\n",
    "df_from_file.head()"
   ]
  },
  {
   "cell_type": "markdown",
   "metadata": {},
   "source": [
    "# Data cleaning, translation and processing"
   ]
  },
  {
   "cell_type": "markdown",
   "metadata": {},
   "source": [
    "Create a copy of the dataframe from the file"
   ]
  },
  {
   "cell_type": "code",
   "execution_count": 10,
   "metadata": {},
   "outputs": [],
   "source": [
    "clean_df = df_from_file.copy()"
   ]
  },
  {
   "cell_type": "markdown",
   "metadata": {},
   "source": [
    "## Translate the columns"
   ]
  },
  {
   "cell_type": "markdown",
   "metadata": {},
   "source": [
    "1. Clean and Translate columns'names\n",
    "2. Drop columns: Listing from, Floor, Mortgaged, Replacement / Barter, Leasing, Fireplace\n",
    "3. Change columns names: Property Type: Type, Type of construction: Construction, Year of construction: Year,\n",
    "Level of completion: Completion,Floor number: Floor,Porter / Security:Security,Garage / Parking space:Garage,\n",
    "4. Clean and translate Type column \n",
    "* remove sqr.\n",
    "* type of building diff columns (ml)\n",
    "* Year building remove text\n",
    "* building progress\n",
    "* floor remove text\n",
    "* the rest of the columns 1 or 0"
   ]
  },
  {
   "cell_type": "markdown",
   "metadata": {},
   "source": [
    "Let's strart by translating the columns from Bulgarian to English"
   ]
  },
  {
   "cell_type": "code",
   "execution_count": 11,
   "metadata": {},
   "outputs": [],
   "source": [
    "\n",
    "# translate array of words or sentances\n",
    "\n",
    "def translationFromBgtoEn(arr):\n",
    "    translated_arr = []\n",
    "    for sentance in arr:     \n",
    "        translated_arr.append(GoogleTranslator(source='auto', target='en').translate(sentance))\n",
    "    return translated_arr\n"
   ]
  },
  {
   "cell_type": "markdown",
   "metadata": {},
   "source": [
    "### Translate columns"
   ]
  },
  {
   "cell_type": "code",
   "execution_count": 12,
   "metadata": {},
   "outputs": [],
   "source": [
    "clean_df.columns = translationFromBgtoEn(clean_df.columns)"
   ]
  },
  {
   "cell_type": "code",
   "execution_count": 13,
   "metadata": {},
   "outputs": [],
   "source": [
    "# clean_df.info()"
   ]
  },
  {
   "cell_type": "markdown",
   "metadata": {},
   "source": [
    "### Clean up the columns' names"
   ]
  },
  {
   "cell_type": "markdown",
   "metadata": {},
   "source": [
    "Removing the chars and unnecessary words from columns "
   ]
  },
  {
   "cell_type": "code",
   "execution_count": 15,
   "metadata": {},
   "outputs": [
    {
     "data": {
      "text/plain": [
       "Index(['Listing from', 'Location', 'Property type', 'Area',\n",
       "       'Type of construction', 'Year of construction', 'Level of completion',\n",
       "       'Floor number', 'Floor', 'Elevator', 'Price', 'Turnkey', 'Furnished',\n",
       "       'Tec', 'Porter ', 'Gasified', 'Local heating', 'Unfurnished',\n",
       "       'Panorama of the mountain', 'Rehabilitated', 'Garage ',\n",
       "       'After renovation', 'Replacement ', 'Leasing', 'Fireplace',\n",
       "       'Mortgaged'],\n",
       "      dtype='object')"
      ]
     },
     "execution_count": 15,
     "metadata": {},
     "output_type": "execute_result"
    }
   ],
   "source": [
    "clean_df.columns = clean_df.columns.map(lambda x: x.replace(':','').split('/')[0].capitalize())\n",
    "\n",
    "# List the translated columns\n",
    "clean_df.columns"
   ]
  },
  {
   "cell_type": "markdown",
   "metadata": {},
   "source": [
    "##### Percentage of missing values per column in ascending order"
   ]
  },
  {
   "cell_type": "code",
   "execution_count": 16,
   "metadata": {},
   "outputs": [
    {
     "data": {
      "text/plain": [
       "Location                     0.00\n",
       "Price                        0.00\n",
       "Property type                0.02\n",
       "Area                         0.05\n",
       "Type of construction         0.05\n",
       "Floor number                 4.66\n",
       "Level of completion          7.16\n",
       "Floor                       25.04\n",
       "Elevator                    33.18\n",
       "Year of construction        40.57\n",
       "Listing from                61.61\n",
       "Tec                         63.91\n",
       "Garage                      77.21\n",
       "Unfurnished                 77.80\n",
       "Gasified                    77.87\n",
       "Rehabilitated               80.81\n",
       "Furnished                   82.31\n",
       "Local heating               88.70\n",
       "Porter                      90.06\n",
       "Panorama of the mountain    91.13\n",
       "Turnkey                     91.38\n",
       "After renovation            93.59\n",
       "Leasing                     98.20\n",
       "Fireplace                   99.36\n",
       "Replacement                 99.73\n",
       "Mortgaged                   99.91\n",
       "dtype: float64"
      ]
     },
     "execution_count": 16,
     "metadata": {},
     "output_type": "execute_result"
    }
   ],
   "source": [
    "clean_df.isnull().mean().round(4).mul(100).sort_values()"
   ]
  },
  {
   "cell_type": "markdown",
   "metadata": {},
   "source": [
    "## Drop columns\n",
    "- Drop column Listing from (this is the name of the agency that published the ad) because over 60% of the ads missed one and it's not important for the project at this stage.\n",
    "- Drop columns Floor, Mortgaged, Replacement, Leasing, Fireplace because most of their values are missing or they are irrelevant for the analysis"
   ]
  },
  {
   "cell_type": "code",
   "execution_count": 17,
   "metadata": {},
   "outputs": [],
   "source": [
    "clean_df = clean_df.drop(['Listing from','Floor', 'Mortgaged','Replacement ','Leasing','Fireplace'], axis=1)"
   ]
  },
  {
   "cell_type": "code",
   "execution_count": 19,
   "metadata": {
    "scrolled": true
   },
   "outputs": [],
   "source": [
    "# clean_df.head(2)"
   ]
  },
  {
   "cell_type": "markdown",
   "metadata": {},
   "source": [
    "## Clean the location column"
   ]
  },
  {
   "cell_type": "markdown",
   "metadata": {},
   "source": [
    "The location column consists of the name of the neighborhood, name of the city, name of the region and that used to be in a hyperlink pointing the location on the map. \n",
    "* First, I am going to take the name of the neighborhood.   \n",
    "* Second, I will take the unique names of the neighborhoods and translate them into English\n",
    "* Third, I am going to map them to Bulgarian and use that dictionary to change the names of all the row. \n",
    "\n",
    "I will use this technique because translating all rows one by one it will up to 20 minutes but if I just find the unique ones and translate them and then map them back to the dataframe it will just take a minute. "
   ]
  },
  {
   "cell_type": "code",
   "execution_count": 20,
   "metadata": {},
   "outputs": [
    {
     "data": {
      "text/plain": [
       "'Хаджи Димитър, град София, област  София, (Виж Хаджи Димитър на картата)\\n'"
      ]
     },
     "execution_count": 20,
     "metadata": {},
     "output_type": "execute_result"
    }
   ],
   "source": [
    "clean_df.Location[0]"
   ]
  },
  {
   "cell_type": "code",
   "execution_count": 21,
   "metadata": {},
   "outputs": [],
   "source": [
    "\n",
    "# Split by comma and return the first element of the list which is the name of the neighborhood.\n",
    "\n",
    "clean_df['Location'] = clean_df['Location'].apply(lambda x: x.split(',')[0])"
   ]
  },
  {
   "cell_type": "code",
   "execution_count": 23,
   "metadata": {},
   "outputs": [
    {
     "name": "stdout",
     "output_type": "stream",
     "text": [
      "Unique number of neighborhoods:  108\n"
     ]
    }
   ],
   "source": [
    "locations = clean_df['Location'].unique()\n",
    "print(\"Unique number of neighborhoods: \",len(locations))"
   ]
  },
  {
   "cell_type": "markdown",
   "metadata": {},
   "source": [
    "### Translate location column"
   ]
  },
  {
   "cell_type": "code",
   "execution_count": 25,
   "metadata": {},
   "outputs": [],
   "source": [
    "# translate all the unique neighborhoods in Sofia\n",
    "locations_en = translationFromBgtoEn(locations)\n",
    "\n",
    "# Create a map that maps BG neighborhoods to EN neighborhoods\n",
    "\n",
    "#  Example: \n",
    "# {'Хаджи Димитър': 'Hadji Dimitar',\n",
    "#  'Оборище': 'Oborishte',\n",
    "#  'Витоша': 'Vitosha', ... }\n",
    "\n",
    "map_loc = {}\n",
    "for indx, i in enumerate(locations):    \n",
    "    map_loc[i] = locations_en[indx]\n",
    "    \n",
    "def translateLocation(el):\n",
    "    return map_loc[el]\n",
    "\n",
    "# Map BG neighb. to En neighb.\n",
    "\n",
    "clean_df['Location'] = clean_df['Location'].map(translateLocation)"
   ]
  },
  {
   "cell_type": "code",
   "execution_count": 30,
   "metadata": {},
   "outputs": [
    {
     "data": {
      "text/plain": [
       "Center               480\n",
       "Cross Water          286\n",
       "Raspberry Valley     256\n",
       "Monastery Meadows    209\n",
       "Students' town       199\n",
       "Vitosha              190\n",
       "Ovcha Kupel          180\n",
       "Ovcha Kupel 2        115\n",
       "Boyana                99\n",
       "Lozenets              92\n",
       "Name: Location, dtype: int64"
      ]
     },
     "execution_count": 30,
     "metadata": {},
     "output_type": "execute_result"
    }
   ],
   "source": [
    "# List the top 10 neighb. \n",
    "\n",
    "clean_df['Location'].value_counts()[:10]"
   ]
  },
  {
   "cell_type": "markdown",
   "metadata": {},
   "source": [
    "### Make type of property a numeric column\n",
    "* List all types of property \n",
    "* Translate them \n",
    "* replace them with numbers"
   ]
  },
  {
   "cell_type": "code",
   "execution_count": 37,
   "metadata": {},
   "outputs": [
    {
     "data": {
      "text/plain": [
       "array(['Двустаен апартамент', 'Тристаен апартамент',\n",
       "       'Многостаен апартамент', 'Мезонет', 'Едностаен апартамент',\n",
       "       'Ателие/Студио'], dtype=object)"
      ]
     },
     "execution_count": 37,
     "metadata": {},
     "output_type": "execute_result"
    }
   ],
   "source": [
    "# List all types of properties\n",
    "type_of_prop = test_df_clean['Type of property'].unique()\n",
    "type_of_prop"
   ]
  },
  {
   "cell_type": "code",
   "execution_count": 157,
   "metadata": {},
   "outputs": [
    {
     "ename": "NameError",
     "evalue": "name 'type_of_prop' is not defined",
     "output_type": "error",
     "traceback": [
      "\u001b[0;31m---------------------------------------------------------------------------\u001b[0m",
      "\u001b[0;31mNameError\u001b[0m                                 Traceback (most recent call last)",
      "\u001b[0;32m<ipython-input-157-994600bd5c38>\u001b[0m in \u001b[0;36m<module>\u001b[0;34m\u001b[0m\n\u001b[1;32m      6\u001b[0m     \u001b[0;32mreturn\u001b[0m \u001b[0mtranslated_list\u001b[0m\u001b[0;34m\u001b[0m\u001b[0;34m\u001b[0m\u001b[0m\n\u001b[1;32m      7\u001b[0m \u001b[0;34m\u001b[0m\u001b[0m\n\u001b[0;32m----> 8\u001b[0;31m \u001b[0mtr_type_of_prop\u001b[0m \u001b[0;34m=\u001b[0m \u001b[0mtranslateList\u001b[0m\u001b[0;34m(\u001b[0m\u001b[0mtype_of_prop\u001b[0m\u001b[0;34m)\u001b[0m\u001b[0;34m\u001b[0m\u001b[0;34m\u001b[0m\u001b[0m\n\u001b[0m\u001b[1;32m      9\u001b[0m \u001b[0mmapped_tp\u001b[0m \u001b[0;34m=\u001b[0m \u001b[0;34m{\u001b[0m\u001b[0;34m}\u001b[0m\u001b[0;34m\u001b[0m\u001b[0;34m\u001b[0m\u001b[0m\n\u001b[1;32m     10\u001b[0m \u001b[0;32mfor\u001b[0m \u001b[0mindx\u001b[0m\u001b[0;34m,\u001b[0m \u001b[0mi\u001b[0m \u001b[0;32min\u001b[0m \u001b[0menumerate\u001b[0m\u001b[0;34m(\u001b[0m\u001b[0mtype_of_prop\u001b[0m\u001b[0;34m)\u001b[0m\u001b[0;34m:\u001b[0m\u001b[0;34m\u001b[0m\u001b[0;34m\u001b[0m\u001b[0m\n",
      "\u001b[0;31mNameError\u001b[0m: name 'type_of_prop' is not defined"
     ]
    }
   ],
   "source": [
    "# Translate them\n",
    "def translateList(arr):\n",
    "    translated_list = []\n",
    "    for el in arr:\n",
    "        translated_list.append(GoogleTranslator(source='auto', target='en').translate(el))\n",
    "    return translated_list\n",
    "\n",
    "tr_type_of_prop = translateList(type_of_prop)\n",
    "mapped_tp = {}\n",
    "for indx, i in enumerate(type_of_prop):    \n",
    "    mapped_tp[i] = tr_type_of_prop[indx]\n",
    "    \n",
    "# mapped_tp    "
   ]
  },
  {
   "cell_type": "code",
   "execution_count": 158,
   "metadata": {},
   "outputs": [],
   "source": [
    "def translateColumn(el):\n",
    "    return mapped_tp[el]\n",
    "\n",
    "test_df_clean['Type of property'] = test_df_clean['Type of property'].map(translateColumn)\n",
    "test_df_clean.head()"
   ]
  },
  {
   "cell_type": "code",
   "execution_count": 42,
   "metadata": {},
   "outputs": [
    {
     "data": {
      "text/plain": [
       "0      2009\n",
       "1      1990\n",
       "2      1990\n",
       "3      2017\n",
       "4      1970\n",
       "       ... \n",
       "195    2015\n",
       "196    1986\n",
       "197    2007\n",
       "198    1995\n",
       "199    2021\n",
       "Name: Year of construction, Length: 200, dtype: int64"
      ]
     },
     "execution_count": 42,
     "metadata": {},
     "output_type": "execute_result"
    }
   ],
   "source": [
    "\n",
    "# Clean Year of construction\n",
    "def cleanYear(el):\n",
    "    if el is not np.nan:\n",
    "        return el.replace(u'\\xa0', ' ').replace(' г. (годината може да е ориентировъчна)','')\n",
    "    else:\n",
    "        return 0\n",
    "    \n",
    "test_df_clean['Year of construction'] = test_df_clean['Year of construction'].apply(cleanYear)\n",
    "# test_df_clean['Year of construction'] = test_df_clean['Year of construction'].fillna(0)\n",
    "test_df_clean['Year of construction'] = test_df_clean['Year of construction'].astype(int)\n",
    "test_df_clean['Year of construction']"
   ]
  },
  {
   "cell_type": "code",
   "execution_count": 40,
   "metadata": {},
   "outputs": [
    {
     "data": {
      "text/html": [
       "<div>\n",
       "<style scoped>\n",
       "    .dataframe tbody tr th:only-of-type {\n",
       "        vertical-align: middle;\n",
       "    }\n",
       "\n",
       "    .dataframe tbody tr th {\n",
       "        vertical-align: top;\n",
       "    }\n",
       "\n",
       "    .dataframe thead th {\n",
       "        text-align: right;\n",
       "    }\n",
       "</style>\n",
       "<table border=\"1\" class=\"dataframe\">\n",
       "  <thead>\n",
       "    <tr style=\"text-align: right;\">\n",
       "      <th></th>\n",
       "      <th>Monastery Meadows</th>\n",
       "      <th>Type of property</th>\n",
       "      <th>Area</th>\n",
       "      <th>Type of construction</th>\n",
       "      <th>Year of construction</th>\n",
       "      <th>Level of completion</th>\n",
       "      <th>Floor number</th>\n",
       "      <th>Floor</th>\n",
       "      <th>Elevator</th>\n",
       "      <th>Furnished</th>\n",
       "      <th>...</th>\n",
       "      <th>Krasno Selo</th>\n",
       "      <th>Zone B5</th>\n",
       "      <th>Hope 4</th>\n",
       "      <th>dry river</th>\n",
       "      <th>Acting American College</th>\n",
       "      <th>Hippodrome</th>\n",
       "      <th>Lyulin 6</th>\n",
       "      <th>Simeonovo</th>\n",
       "      <th>Lyulin 4</th>\n",
       "      <th>Rooms</th>\n",
       "    </tr>\n",
       "  </thead>\n",
       "  <tbody>\n",
       "    <tr>\n",
       "      <th>0</th>\n",
       "      <td>1.0</td>\n",
       "      <td>Two room apartment</td>\n",
       "      <td>69 кв.м</td>\n",
       "      <td>Тухла</td>\n",
       "      <td>2009 г. (годината може да е ориентировъчна)</td>\n",
       "      <td>Готов (завършен)</td>\n",
       "      <td>4 етаж</td>\n",
       "      <td>Непоследен</td>\n",
       "      <td>1.0</td>\n",
       "      <td>1.0</td>\n",
       "      <td>...</td>\n",
       "      <td>NaN</td>\n",
       "      <td>NaN</td>\n",
       "      <td>NaN</td>\n",
       "      <td>NaN</td>\n",
       "      <td>NaN</td>\n",
       "      <td>NaN</td>\n",
       "      <td>NaN</td>\n",
       "      <td>NaN</td>\n",
       "      <td>NaN</td>\n",
       "      <td>3</td>\n",
       "    </tr>\n",
       "    <tr>\n",
       "      <th>1</th>\n",
       "      <td>NaN</td>\n",
       "      <td>Two room apartment</td>\n",
       "      <td>64 кв.м</td>\n",
       "      <td>ЕПК/ПК</td>\n",
       "      <td>1990 г. (годината може да е ориентировъчна)</td>\n",
       "      <td>Готов (завършен)</td>\n",
       "      <td>1 етаж</td>\n",
       "      <td>Първи жилищен</td>\n",
       "      <td>1.0</td>\n",
       "      <td>NaN</td>\n",
       "      <td>...</td>\n",
       "      <td>NaN</td>\n",
       "      <td>NaN</td>\n",
       "      <td>NaN</td>\n",
       "      <td>NaN</td>\n",
       "      <td>NaN</td>\n",
       "      <td>NaN</td>\n",
       "      <td>NaN</td>\n",
       "      <td>NaN</td>\n",
       "      <td>NaN</td>\n",
       "      <td>3</td>\n",
       "    </tr>\n",
       "    <tr>\n",
       "      <th>2</th>\n",
       "      <td>NaN</td>\n",
       "      <td>Two room apartment</td>\n",
       "      <td>63 кв.м</td>\n",
       "      <td>ЕПК/ПК</td>\n",
       "      <td>1990 г. (годината може да е ориентировъчна)</td>\n",
       "      <td>Готов (завършен)</td>\n",
       "      <td>NaN</td>\n",
       "      <td>Непоследен</td>\n",
       "      <td>1.0</td>\n",
       "      <td>1.0</td>\n",
       "      <td>...</td>\n",
       "      <td>NaN</td>\n",
       "      <td>NaN</td>\n",
       "      <td>NaN</td>\n",
       "      <td>NaN</td>\n",
       "      <td>NaN</td>\n",
       "      <td>NaN</td>\n",
       "      <td>NaN</td>\n",
       "      <td>NaN</td>\n",
       "      <td>NaN</td>\n",
       "      <td>3</td>\n",
       "    </tr>\n",
       "    <tr>\n",
       "      <th>3</th>\n",
       "      <td>NaN</td>\n",
       "      <td>Two-bedroom apartment</td>\n",
       "      <td>174 кв.м</td>\n",
       "      <td>Тухла</td>\n",
       "      <td>2017 г. (годината може да е ориентировъчна)</td>\n",
       "      <td>Готов (завършен)</td>\n",
       "      <td>3 етаж</td>\n",
       "      <td>Непоследен</td>\n",
       "      <td>NaN</td>\n",
       "      <td>NaN</td>\n",
       "      <td>...</td>\n",
       "      <td>NaN</td>\n",
       "      <td>NaN</td>\n",
       "      <td>NaN</td>\n",
       "      <td>NaN</td>\n",
       "      <td>NaN</td>\n",
       "      <td>NaN</td>\n",
       "      <td>NaN</td>\n",
       "      <td>NaN</td>\n",
       "      <td>NaN</td>\n",
       "      <td>4</td>\n",
       "    </tr>\n",
       "    <tr>\n",
       "      <th>4</th>\n",
       "      <td>NaN</td>\n",
       "      <td>Two room apartment</td>\n",
       "      <td>72 кв.м</td>\n",
       "      <td>Тухла</td>\n",
       "      <td>1970 г. (годината може да е ориентировъчна)</td>\n",
       "      <td>Готов (завършен)</td>\n",
       "      <td>5 етаж</td>\n",
       "      <td>Непоследен</td>\n",
       "      <td>NaN</td>\n",
       "      <td>NaN</td>\n",
       "      <td>...</td>\n",
       "      <td>NaN</td>\n",
       "      <td>NaN</td>\n",
       "      <td>NaN</td>\n",
       "      <td>NaN</td>\n",
       "      <td>NaN</td>\n",
       "      <td>NaN</td>\n",
       "      <td>NaN</td>\n",
       "      <td>NaN</td>\n",
       "      <td>NaN</td>\n",
       "      <td>3</td>\n",
       "    </tr>\n",
       "  </tbody>\n",
       "</table>\n",
       "<p>5 rows × 86 columns</p>\n",
       "</div>"
      ],
      "text/plain": [
       "   Monastery Meadows       Type of property      Area Type of construction  \\\n",
       "0                1.0     Two room apartment   69 кв.м                Тухла   \n",
       "1                NaN     Two room apartment   64 кв.м               ЕПК/ПК   \n",
       "2                NaN     Two room apartment   63 кв.м               ЕПК/ПК   \n",
       "3                NaN  Two-bedroom apartment  174 кв.м                Тухла   \n",
       "4                NaN     Two room apartment   72 кв.м                Тухла   \n",
       "\n",
       "                          Year of construction Level of completion  \\\n",
       "0  2009 г. (годината може да е ориентировъчна)    Готов (завършен)   \n",
       "1  1990 г. (годината може да е ориентировъчна)    Готов (завършен)   \n",
       "2  1990 г. (годината може да е ориентировъчна)    Готов (завършен)   \n",
       "3  2017 г. (годината може да е ориентировъчна)    Готов (завършен)   \n",
       "4  1970 г. (годината може да е ориентировъчна)    Готов (завършен)   \n",
       "\n",
       "  Floor number          Floor  Elevator  Furnished  ...  Krasno Selo  Zone B5  \\\n",
       "0       4 етаж     Непоследен       1.0        1.0  ...          NaN      NaN   \n",
       "1       1 етаж  Първи жилищен       1.0        NaN  ...          NaN      NaN   \n",
       "2          NaN     Непоследен       1.0        1.0  ...          NaN      NaN   \n",
       "3       3 етаж     Непоследен       NaN        NaN  ...          NaN      NaN   \n",
       "4       5 етаж     Непоследен       NaN        NaN  ...          NaN      NaN   \n",
       "\n",
       "   Hope 4 dry river  Acting American College  Hippodrome  Lyulin 6  Simeonovo  \\\n",
       "0     NaN       NaN                      NaN         NaN       NaN        NaN   \n",
       "1     NaN       NaN                      NaN         NaN       NaN        NaN   \n",
       "2     NaN       NaN                      NaN         NaN       NaN        NaN   \n",
       "3     NaN       NaN                      NaN         NaN       NaN        NaN   \n",
       "4     NaN       NaN                      NaN         NaN       NaN        NaN   \n",
       "\n",
       "   Lyulin 4  Rooms  \n",
       "0       NaN      3  \n",
       "1       NaN      3  \n",
       "2       NaN      3  \n",
       "3       NaN      4  \n",
       "4       NaN      3  \n",
       "\n",
       "[5 rows x 86 columns]"
      ]
     },
     "execution_count": 40,
     "metadata": {},
     "output_type": "execute_result"
    }
   ],
   "source": [
    "type_app_to_rooms = {\n",
    "'Two-bedroom apartment':4,\n",
    " 'Two room apartment':3,\n",
    " 'Large apartment':5,\n",
    " 'Maisonette':5,\n",
    " 'One-room apartment':2,\n",
    " 'Atelier / Studio':1\n",
    "}\n",
    "\n",
    "def mapTypeToRooms(el):\n",
    "    return type_app_to_rooms[el]\n",
    "\n",
    "test_df_clean['Rooms'] = test_df_clean['Type of property'].map(mapTypeToRooms)\n",
    "test_df_clean.head()"
   ]
  },
  {
   "cell_type": "code",
   "execution_count": 59,
   "metadata": {},
   "outputs": [
    {
     "data": {
      "text/plain": [
       "float64    16\n",
       "object     10\n",
       "dtype: int64"
      ]
     },
     "execution_count": 59,
     "metadata": {},
     "output_type": "execute_result"
    }
   ],
   "source": [
    "df_aparts.dtypes.value_counts()"
   ]
  },
  {
   "cell_type": "code",
   "execution_count": 63,
   "metadata": {},
   "outputs": [
    {
     "data": {
      "text/plain": [
       "2812"
      ]
     },
     "execution_count": 63,
     "metadata": {},
     "output_type": "execute_result"
    }
   ],
   "source": [
    "feat_categorical_nunique = df_aparts.select_dtypes(include='object').nunique()\n",
    "feat_categorical_nunique.sum()"
   ]
  },
  {
   "cell_type": "markdown",
   "metadata": {},
   "source": [
    "##### How many numerical features vs. categorical features do we have?"
   ]
  },
  {
   "cell_type": "markdown",
   "metadata": {},
   "source": [
    "Store the Series `feat_categorical_nunique` containing the number of **unique values** for each categorical feature in our training set. How many unique categories are there in total ?"
   ]
  },
  {
   "cell_type": "code",
   "execution_count": 62,
   "metadata": {},
   "outputs": [
    {
     "data": {
      "image/png": "[encoded data removed]",
      "text/plain": [
       "<Figure size 432x288 with 1 Axes>"
      ]
     },
     "metadata": {
      "needs_background": "light"
     },
     "output_type": "display_data"
    }
   ],
   "source": [
    "feat_categorical_nunique.hist();"
   ]
  },
  {
   "cell_type": "markdown",
   "metadata": {},
   "source": [
    "### Clean Area column\n",
    "* Remove sq.m.\n",
    "* Change type to int"
   ]
  },
  {
   "cell_type": "markdown",
   "metadata": {},
   "source": [
    "### Clean Level of completion"
   ]
  },
  {
   "cell_type": "code",
   "execution_count": 43,
   "metadata": {},
   "outputs": [
    {
     "data": {
      "text/plain": [
       "array(['Готов (завършен)', 'В строеж', nan, 'В проект'], dtype=object)"
      ]
     },
     "execution_count": 43,
     "metadata": {},
     "output_type": "execute_result"
    }
   ],
   "source": [
    "test_df_clean['Level of completion'].unique()"
   ]
  },
  {
   "cell_type": "markdown",
   "metadata": {},
   "source": [
    "### Change type of price"
   ]
  },
  {
   "cell_type": "code",
   "execution_count": 44,
   "metadata": {},
   "outputs": [
    {
     "data": {
      "text/plain": [
       "0      135000\n",
       "1       80000\n",
       "2       89000\n",
       "3      260000\n",
       "4      137900\n",
       "        ...  \n",
       "195    120000\n",
       "196    127000\n",
       "197     99000\n",
       "198     46000\n",
       "199    191000\n",
       "Name: price, Length: 200, dtype: int64"
      ]
     },
     "execution_count": 44,
     "metadata": {},
     "output_type": "execute_result"
    }
   ],
   "source": [
    "test_df_clean['price'] = test_df_clean['price'].astype(int)\n",
    "test_df_clean['price']"
   ]
  },
  {
   "cell_type": "code",
   "execution_count": 47,
   "metadata": {},
   "outputs": [
    {
     "data": {
      "image/png": "[encoded data removed]",
      "text/plain": [
       "<Figure size 720x432 with 1 Axes>"
      ]
     },
     "metadata": {
      "needs_background": "light"
     },
     "output_type": "display_data"
    }
   ],
   "source": [
    "plt.figure(figsize=(10,6))\n",
    "plt.scatter(test_df_clean['Area'],test_df_clean['price'], s=30, edgecolor=\"black\",c=\"darkorange\", label=\"surface\")\n",
    "plt.xlabel(\"Surface Area\")\n",
    "plt.ylabel(\"House Price\")\n",
    "plt.title(\"Surface Area vs. House Price\")\n",
    "plt.legend()\n",
    "plt.show()"
   ]
  },
  {
   "cell_type": "markdown",
   "metadata": {},
   "source": [
    "### Add column squared meter price"
   ]
  },
  {
   "cell_type": "code",
   "execution_count": 48,
   "metadata": {},
   "outputs": [],
   "source": [
    "test_df_clean['Price per sq.m'] = test_df_clean['price']/test_df_clean['Area']"
   ]
  },
  {
   "cell_type": "code",
   "execution_count": 49,
   "metadata": {},
   "outputs": [
    {
     "data": {
      "image/png": "[encoded data removed]",
      "text/plain": [
       "<Figure size 720x432 with 1 Axes>"
      ]
     },
     "metadata": {
      "needs_background": "light"
     },
     "output_type": "display_data"
    }
   ],
   "source": [
    "plt.figure(figsize=(10,6))\n",
    "plt.scatter(test_df_clean['Area'],test_df_clean['Price per sq.m'], s=30, edgecolor=\"black\",c=\"darkorange\", label=\"surface\")\n",
    "plt.xlabel(\"Surface Area\")\n",
    "plt.ylabel(\"House Price\")\n",
    "plt.title(\"Surface Area vs. Price per sq.m\")\n",
    "plt.legend()\n",
    "plt.show()"
   ]
  },
  {
   "cell_type": "code",
   "execution_count": 50,
   "metadata": {},
   "outputs": [
    {
     "data": {
      "image/png": "[encoded data removed]",
      "text/plain": [
       "<Figure size 720x432 with 1 Axes>"
      ]
     },
     "metadata": {
      "needs_background": "light"
     },
     "output_type": "display_data"
    }
   ],
   "source": [
    "plt.figure(figsize=(10,6))\n",
    "plt.scatter(test_df_clean['Rooms'],test_df_clean['price'], s=30, edgecolor=\"black\",c=\"darkorange\", label=\"bedrooms\")\n",
    "plt.xlabel(\"Rooms\")\n",
    "plt.ylabel(\"House Price\")\n",
    "plt.title(\"Rooms vs. House Price\")\n",
    "plt.legend()\n",
    "plt.show()"
   ]
  },
  {
   "cell_type": "code",
   "execution_count": 51,
   "metadata": {},
   "outputs": [],
   "source": [
    "test_df_clean[test_df_clean.columns[8:-2]] = test_df_clean[test_df_clean.columns[8:-2]].fillna(0).astype(int)"
   ]
  },
  {
   "cell_type": "markdown",
   "metadata": {},
   "source": [
    "### Floor cleaning "
   ]
  },
  {
   "cell_type": "code",
   "execution_count": 117,
   "metadata": {},
   "outputs": [],
   "source": [
    "# # test_df_clean['Floor number'] = test_df_clean['Floor number'].apply(lambda x: x.replace('0', ' '))\n",
    "# test_df_clean['Floor number'] = test_df_clean['Floor number'].apply(lambda x: x.replace(u'\\xa0', ' ').replace(' етаж',''))\n",
    "# test_df_clean['Floor number'] = test_df_clean['Floor number'].astype(int)\n",
    "# # test_df_clean['Floor number'][test_df_clean['Floor number'] == 0]\n",
    "# test_df_clean.head()"
   ]
  },
  {
   "cell_type": "code",
   "execution_count": 116,
   "metadata": {},
   "outputs": [],
   "source": [
    "# plt.figure(figsize=(10,6))\n",
    "# plt.scatter(test_df_clean['Floor number'],test_df_clean['Price per sq.m'], s=30, edgecolor=\"black\",c=\"darkorange\", label=\"bedrooms\")\n",
    "# plt.xlabel(\"Floor\")\n",
    "# plt.ylabel(\"House Price\")\n",
    "# plt.title(\"Rooms vs. House Price\")\n",
    "# plt.legend()\n",
    "# plt.show()"
   ]
  },
  {
   "cell_type": "code",
   "execution_count": 118,
   "metadata": {},
   "outputs": [],
   "source": [
    "# test_df_clean.columns[8:-2]"
   ]
  },
  {
   "cell_type": "code",
   "execution_count": 119,
   "metadata": {},
   "outputs": [],
   "source": [
    "# test_df_clean.head()"
   ]
  },
  {
   "cell_type": "code",
   "execution_count": null,
   "metadata": {},
   "outputs": [],
   "source": [
    "target= np.array(test_df_clean['price'])\n",
    "features = test_df_clean[['Area','Year of construction','Floor number']]\n",
    "feature_list = list(features.columns)\n",
    "features = np.array(features)\n",
    "\n",
    "## RANDOM FOREST - KFOLD AND MODEL \n",
    "\n",
    "\n",
    "from sklearn.model_selection import KFold\n",
    "from sklearn.ensemble import RandomForestRegressor\n",
    "    \n",
    "kf = KFold(n_splits=10,random_state=42,shuffle=True)\n",
    "accuracies = []\n",
    "for train_index, test_index in kf.split(features):\n",
    "\n",
    "    data_train   = features[train_index]\n",
    "    target_train = target[train_index]\n",
    "\n",
    "    data_test    = features[test_index]\n",
    "    target_test  = target[test_index]\n",
    "\n",
    "    rf = RandomForestRegressor(n_estimators = 1000, \n",
    "                               random_state = 42, \n",
    "                               criterion = 'mse',\n",
    "                               bootstrap=True)\n",
    "    \n",
    "    rf.fit(data_train, target_train)\n",
    "\n",
    "    predictions = rf.predict(data_test)\n",
    "\n",
    "    errors = abs(predictions - target_test)\n",
    "\n",
    "    print('Mean Absolute Error:', round(np.mean(errors), 2))\n",
    "    \n",
    "    mape = 100 * (errors / target_test)\n",
    "    accuracy = 100 - np.mean(mape)\n",
    "    print('Accuracy:', round(accuracy, 2), '%.')\n",
    "\n",
    "    accuracies.append(accuracy)\n",
    "\n",
    "average_accuracy = np.mean(accuracies)\n",
    "print('Average accuracy:', average_accuracy)"
   ]
  },
  {
   "cell_type": "code",
   "execution_count": 64,
   "metadata": {},
   "outputs": [
    {
     "name": "stdout",
     "output_type": "stream",
     "text": [
      "Mean Absolute Error: 825.39\n",
      "Accuracy: 99.33 %.\n",
      "Mean Absolute Error: 1002.59\n",
      "Accuracy: 99.05 %.\n",
      "Mean Absolute Error: 11257.82\n",
      "Accuracy: 97.79 %.\n",
      "Mean Absolute Error: 13340.17\n",
      "Accuracy: 97.59 %.\n",
      "Mean Absolute Error: 425.59\n",
      "Accuracy: 99.63 %.\n",
      "Mean Absolute Error: 7562.21\n",
      "Accuracy: 97.75 %.\n",
      "Mean Absolute Error: 7100.23\n",
      "Accuracy: -130292.1 %.\n",
      "Mean Absolute Error: 4832.74\n",
      "Accuracy: 97.8 %.\n",
      "Mean Absolute Error: 2138.44\n",
      "Accuracy: 98.84 %.\n",
      "Mean Absolute Error: 1362.75\n",
      "Accuracy: 99.12 %.\n",
      "Average accuracy: -12940.520093794472\n"
     ]
    }
   ],
   "source": [
    "target= np.array(test_df_clean['price'])\n",
    "features = test_df_clean[['Area','Year of construction',\n",
    "                          'Elevator', 'Furnished', 'Rehabilitated', 'After renovation', 'TEC',\n",
    "       'price', 'Lyulin 3', 'Local heating', 'Unfurnished', 'Lyulin 2',\n",
    "       'Turnkey', 'Boyana', 'Panorama of the mountain', 'Medical Academy',\n",
    "       'Camp', 'Lyulin 5', 'Garage / Parking space', 'Ovcha Kupel 1', 'Peel',\n",
    "       'Center', 'Hadji Dimitar', 'Lozenets', 'Swelling', 'Dragalevtsi',\n",
    "       'Gasified', 'The refrigerator', 'Leasing', 'Porter / Security',\n",
    "       'Gotse Delchev', 'Youth 3', 'Vrabnica 1', 'The White birches',\n",
    "       'Raspberry Valley', 'Fireplace', 'Яворов', 'Bedbug', 'm. Gardova glava',\n",
    "       'Karpuzitsa', 'Ovcha Kupel', 'Buxton', 'Replacement / Barter',\n",
    "       'Students\\' town', 'Vitosha', 'Lyulin 8', 'Lyulin 7', 'Oborishte',\n",
    "       'Youth 1', 'The nursery', 'Krasna Polyana', 'Levski', 'Slatina',\n",
    "       'Geo Milev', 'Youth 4', 'East', 'Ivan Vazov', 'Zone B19', 'Lyulin 10',\n",
    "       'Friendship 2', 'Friendship 1', 'Knyazhevo', 'Botunets', 'Obelya 2',\n",
    "       'Banishora', 'Landfill', 'Youth 2', 'Redoubt', 'Hope 1', 'Cross Water',\n",
    "       'Krasno Selo', 'Zone B5', 'Hope 4', 'dry river',\n",
    "       'Acting American College', 'Hippodrome', 'Lyulin 6', 'Simeonovo',\n",
    "       'Lyulin 4']]\n",
    "features = np.array(features)\n",
    "\n",
    "## RANDOM FOREST - KFOLD AND MODEL \n",
    "\n",
    "\n",
    "from sklearn.model_selection import KFold\n",
    "from sklearn.ensemble import RandomForestRegressor\n",
    "    \n",
    "kf = KFold(n_splits=10,random_state=42,shuffle=True)\n",
    "accuracies = []\n",
    "for train_index, test_index in kf.split(features):\n",
    "\n",
    "    data_train   = features[train_index]\n",
    "    target_train = target[train_index]\n",
    "\n",
    "    data_test    = features[test_index]\n",
    "    target_test  = target[test_index]\n",
    "\n",
    "    rf = RandomForestRegressor(n_estimators = 1000, \n",
    "                               random_state = 42, \n",
    "                               criterion = 'mse',\n",
    "                               bootstrap=True)\n",
    "    \n",
    "    rf.fit(data_train, target_train)\n",
    "\n",
    "    predictions = rf.predict(data_test)\n",
    "\n",
    "    errors = abs(predictions - target_test)\n",
    "\n",
    "    print('Mean Absolute Error:', round(np.mean(errors), 2))\n",
    "    \n",
    "    mape = 100 * (errors / target_test)\n",
    "    accuracy = 100 - np.mean(mape)\n",
    "    print('Accuracy:', round(accuracy, 2), '%.')\n",
    "\n",
    "    accuracies.append(accuracy)\n",
    "\n",
    "average_accuracy = np.mean(accuracies)\n",
    "print('Average accuracy:', average_accuracy)"
   ]
  },
  {
   "cell_type": "code",
   "execution_count": null,
   "metadata": {},
   "outputs": [],
   "source": [
    "from sklearn.model_selection import RandomizedSearchCV\n",
    "# Number of trees in random forest\n",
    "n_estimators = [int(x) for x in np.linspace(start = 200, stop = 2000, num = 10)]\n",
    "# Number of features to consider at every split\n",
    "max_features = ['auto', 'sqrt']\n",
    "# Maximum number of levels in tree\n",
    "max_depth = [int(x) for x in np.linspace(10, 110, num = 11)]\n",
    "max_depth.append(None)\n",
    "# Minimum number of samples required to split a node\n",
    "min_samples_split = [2, 5, 10]\n",
    "# Minimum number of samples required at each leaf node\n",
    "min_samples_leaf = [1, 2, 4]\n",
    "# Method of selecting samples for training each tree\n",
    "bootstrap = [True, False]\n",
    "# Create the random grid\n",
    "random_grid = {'n_estimators': n_estimators,\n",
    "               'max_features': max_features,\n",
    "               'max_depth': max_depth,\n",
    "               'min_samples_split': min_samples_split,\n",
    "               'min_samples_leaf': min_samples_leaf,\n",
    "               'bootstrap': bootstrap}\n",
    "pprint(random_grid)"
   ]
  },
  {
   "cell_type": "code",
   "execution_count": null,
   "metadata": {},
   "outputs": [],
   "source": [
    "# Use the random grid to search for best hyperparameters\n",
    "# First create the base model to tune\n",
    "rf = RandomForestRegressor()\n",
    "# Random search of parameters, using 3 fold cross validation, \n",
    "# search across 100 different combinations, and use all available cores\n",
    "rf_random = RandomizedSearchCV(estimator = rf, param_distributions = random_grid, n_iter = 100, cv = 3, verbose=2, random_state=42, n_jobs = -1)\n",
    "# Fit the random search model\n",
    "rf_random.fit(data_train, target_train)\n",
    "\n",
    "print(rf_random.best_params_)"
   ]
  },
  {
   "cell_type": "code",
   "execution_count": null,
   "metadata": {},
   "outputs": [],
   "source": [
    "from sklearn.model_selection import KFold\n",
    "from sklearn.ensemble import RandomForestRegressor\n",
    "    \n",
    "kf = KFold(n_splits=10,random_state=42,shuffle=True)\n",
    "accuracies = []\n",
    "for train_index, test_index in kf.split(features):\n",
    "\n",
    "    data_train   = features[train_index]\n",
    "    target_train = target[train_index]\n",
    "\n",
    "    data_test    = features[test_index]\n",
    "    target_test  = target[test_index]\n",
    "\n",
    "    rf = RandomForestRegressor(n_estimators = 400, \n",
    "                               random_state = 42, \n",
    "                               criterion = 'mse',\n",
    "                               min_samples_leaf = 1,\n",
    "                               min_samples_split= 2,\n",
    "                               max_features = 'sqrt',\n",
    "                               bootstrap=False,\n",
    "                               max_depth = None)\n",
    "    \n",
    "    rf.fit(data_train, target_train)\n",
    "\n",
    "    predictions = rf.predict(data_test)\n",
    "\n",
    "    errors = abs(predictions - target_test)\n",
    "\n",
    "    print('Mean Absolute Error:', round(np.mean(errors), 2))\n",
    "    \n",
    "    mape = 100 * (errors / target_test)\n",
    "    accuracy = 100 - np.mean(mape)\n",
    "    print('Accuracy:', round(accuracy, 2), '%.')\n",
    "\n",
    "    accuracies.append(accuracy)\n",
    "\n",
    "average_accuracy = np.mean(accuracies)\n",
    "print('Average accuracy:', average_accuracy)\n"
   ]
  },
  {
   "cell_type": "code",
   "execution_count": null,
   "metadata": {},
   "outputs": [],
   "source": [
    "npices = np.array(prices).astype('int')\n",
    "ps = pd.Series(npices)\n",
    "ps = ps[(ps > 10000) & (ps < 500000)]\n",
    "ps.describe()"
   ]
  },
  {
   "cell_type": "code",
   "execution_count": null,
   "metadata": {},
   "outputs": [],
   "source": [
    "npices2 = np.array(prices).astype('int')\n",
    "ps2 = pd.DataFrame(npices2)\n",
    "ps2.to_csv('prices.csv', index=False)"
   ]
  },
  {
   "cell_type": "code",
   "execution_count": null,
   "metadata": {},
   "outputs": [],
   "source": [
    "pr = pd.read_csv('prices.csv')\n",
    "pr['price'].plot.box()"
   ]
  },
  {
   "cell_type": "code",
   "execution_count": null,
   "metadata": {},
   "outputs": [],
   "source": [
    "plt.figure(figsize=(12,8))\n",
    "plt.boxplot(pr[(pr['price'] < 500000) & (pr['price'] > 10000)])\n",
    "\n",
    "plt.show()\n",
    "# pr.describe()"
   ]
  }
 ],
 "metadata": {
  "kernelspec": {
   "display_name": "Python 3",
   "language": "python",
   "name": "python3"
  },
  "language_info": {
   "codemirror_mode": {
    "name": "ipython",
    "version": 3
   },
   "file_extension": ".py",
   "mimetype": "text/x-python",
   "name": "python",
   "nbconvert_exporter": "python",
   "pygments_lexer": "ipython3",
   "version": "3.8.5"
  },
  "toc": {
   "base_numbering": 1,
   "nav_menu": {},
   "number_sections": true,
   "sideBar": true,
   "skip_h1_title": false,
   "title_cell": "Table of Contents",
   "title_sidebar": "Contents",
   "toc_cell": false,
   "toc_position": {},
   "toc_section_display": true,
   "toc_window_display": false
  }
 },
 "nbformat": 4,
 "nbformat_minor": 4
}
