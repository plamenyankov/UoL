{
 "cells": [
  {
   "cell_type": "code",
   "execution_count": 54,
   "metadata": {},
   "outputs": [
    {
     "name": "stdout",
     "output_type": "stream",
     "text": [
      "Collecting deep_translator\n",
      "  Downloading deep_translator-1.6.0-py3-none-any.whl (32 kB)\n",
      "Requirement already satisfied: click<9.0.0,>=8.0.1 in /Users/plamenyankov/anaconda3/envs/jupyter-env/lib/python3.8/site-packages (from deep_translator) (8.0.3)\n",
      "Requirement already satisfied: beautifulsoup4<5.0.0,>=4.9.1 in /Users/plamenyankov/anaconda3/envs/jupyter-env/lib/python3.8/site-packages (from deep_translator) (4.10.0)\n",
      "Requirement already satisfied: requests<3.0.0,>=2.23.0 in /Users/plamenyankov/anaconda3/envs/jupyter-env/lib/python3.8/site-packages (from deep_translator) (2.26.0)\n",
      "Requirement already satisfied: soupsieve>1.2 in /Users/plamenyankov/anaconda3/envs/jupyter-env/lib/python3.8/site-packages (from beautifulsoup4<5.0.0,>=4.9.1->deep_translator) (2.3.1)\n",
      "Requirement already satisfied: charset-normalizer~=2.0.0 in /Users/plamenyankov/anaconda3/envs/jupyter-env/lib/python3.8/site-packages (from requests<3.0.0,>=2.23.0->deep_translator) (2.0.7)\n",
      "Requirement already satisfied: certifi>=2017.4.17 in /Users/plamenyankov/anaconda3/envs/jupyter-env/lib/python3.8/site-packages (from requests<3.0.0,>=2.23.0->deep_translator) (2020.6.20)\n",
      "Requirement already satisfied: urllib3<1.27,>=1.21.1 in /Users/plamenyankov/anaconda3/envs/jupyter-env/lib/python3.8/site-packages (from requests<3.0.0,>=2.23.0->deep_translator) (1.26.7)\n",
      "Requirement already satisfied: idna<4,>=2.5 in /Users/plamenyankov/anaconda3/envs/jupyter-env/lib/python3.8/site-packages (from requests<3.0.0,>=2.23.0->deep_translator) (2.10)\n",
      "Installing collected packages: deep-translator\n",
      "Successfully installed deep-translator-1.6.0\n"
     ]
    }
   ],
   "source": [
    "!pip install -U deep_translator"
   ]
  },
  {
   "cell_type": "code",
   "execution_count": 100,
   "metadata": {},
   "outputs": [],
   "source": [
    "from deep_translator import GoogleTranslator\n",
    "translated = GoogleTranslator(source='auto', target='en').translate('''Допълнителна информация\n",
    "ЕКСКЛУЗИВНА ОФЕРТА!\n",
    "’ SVETLINA REAL ESTATE ’ Ви предлага обзаведен и оборудван апартамент с две спални на ул. Юрий Венелин.\n",
    "Част е от четириетажна тухлена сграда от 1920 г. - без асансьор, с контрол на достъпа и добре поддържани общи части. \n",
    "Със сменена ПВЦ Дограма. Имотът е в отлично състояние, разположен е на втори жилищен етаж с площ от 90 кв.м. \n",
    "С прилежащи - таванско помещение и мазе.\n",
    "Жилището е със следното разпределение:\n",
    "- входно антре с огледало;\n",
    "- кухненски бокс - фурна, керамичен плот, абсорбатор, хладилник с фризер; маса с два стола, пералня;\n",
    "- мека мебел в дневната, ТВ скрин, телевизор;\n",
    "- преходна стая - спалня с матрак и шесткрилен гардероб;\n",
    "- втора стая - спалня с матрак, бюро и скрин;\n",
    "- баня и тоалетна;\n",
    "Едната спалня е с югоизточно изложение, а другата с изцяло източно.\n",
    "Състояние:\n",
    "- стени - латекс;\n",
    "- подови настилки - ламинат и теракота;\n",
    "- трикамерна PVC дограма;\n",
    "- сменени щрангове;\n",
    "Отоплението е на ТЕЦ с монтирани отоплителни тела във всяко помещение!\n",
    "Локация - в идеалния център на София - на пешеходни разстояния от метростанция „Патриарх Евтимий“, магазини, търговски центрове, места за развлечения и разходка, паркове и градинки, училища и детски градини, Софийски университет Св. Св. Климент Охридски, БНТ, държавни и административни учреждения, Военна академия Г. С. Раковски, главни пътни артерии като булевардите Васил Левски, Патриарх Евтимий.\n",
    "РАЗПОЛАГАМЕ С КЛЮЧ ОТ ИМОТА!\n",
    "\n",
    "’Svetlina Real Estate’ Ви предлага съдействие за ипотечен кредит от лицензиран от БНБ кредитен посредник и безплатна консултация и съдействие при всякакъв вид банково финансиране. Ние ще бъдем с Вас не само по време на покупката, но и след това, осигурявайки Ви допълнителни услуги по ваше изискване с цел пълноценно ползване на новозакупения имот.\n",
    "\n",
    "Отговорен брокер: Иван Гергов''') "
   ]
  },
  {
   "cell_type": "code",
   "execution_count": 101,
   "metadata": {},
   "outputs": [
    {
     "data": {
      "text/plain": [
       "'More information\\nEXCLUSIVE OFFER!\\n‘SVETLINA REAL ESTATE’ offers you a furnished and equipped two-bedroom apartment on Yuri Venelin Street.\\nIt is part of a four-storey brick building from 1920 - without an elevator, with access control and well-maintained common areas. With replaced PVC windows. The property is in excellent condition, located on the second floor with an area of \\u200b\\u200b90 sq.m. With adjoining - attic and basement.\\nThe apartment has the following distribution:\\n- entrance hall with mirror;\\n- kitchenette - oven, ceramic hob, extractor hood, refrigerator with freezer; table with two tables, washing machine;\\n- sofas in the living room, TV cabinet, TV;\\n- transitional room - bedroom with mattress and six-leaf wardrobe;\\n- second room - bedroom with mattress, desk and chest of drawers;\\n- bath and toilet;\\nOne bedroom faces southeast and the other is completely east.\\nCondition:\\n- walls - latex;\\n- flooring - laminate and terracotta;\\n- three-chamber PVC joinery;\\n- replaced risers;\\nThe heating is on central heating with installed radiators in each room!\\nLocation - in the ideal center of Sofia - within walking distance of the metro station \"Patriarch Evtimii\", shops, shopping centers, places for entertainment and walking, parks and gardens, schools and kindergartens, Sofia University St. St. Kliment Ohridski, BNT, state and administrative institutions, GS Rakovski Military Academy, main roads such as Vasil Levski Boulevards, Patriarch Evtimiy.\\nWE HAVE A KEY TO THE PROPERTY!\\n\\n‘Svetlina Real Estate’ offers you assistance for a mortgage loan from a BNB-licensed credit intermediary and free consultation and assistance with any type of bank financing. We will be with you not only during the purchase, but also after that, providing you with additional services at your request in order to fully use the newly purchased property.\\n\\nResponsible broker: Ivan Gergov'"
      ]
     },
     "execution_count": 101,
     "metadata": {},
     "output_type": "execute_result"
    }
   ],
   "source": [
    "translated"
   ]
  },
  {
   "cell_type": "code",
   "execution_count": 39,
   "metadata": {},
   "outputs": [],
   "source": [
    "import pandas as pd\n",
    "import requests\n",
    "from bs4 import BeautifulSoup\n",
    "from googletrans import Translator, constants\n",
    "from pprint import pprint"
   ]
  },
  {
   "cell_type": "code",
   "execution_count": 32,
   "metadata": {},
   "outputs": [],
   "source": [
    "URL = \"https://www.alo.bg/obiavi/imoti-prodajbi/apartamenti-stai/?region_id=22&location_ids=4342\"\n",
    "page = requests.get(URL)"
   ]
  },
  {
   "cell_type": "code",
   "execution_count": 33,
   "metadata": {},
   "outputs": [],
   "source": [
    "soup = BeautifulSoup(page.content, \"html.parser\")"
   ]
  },
  {
   "cell_type": "code",
   "execution_count": 34,
   "metadata": {},
   "outputs": [],
   "source": [
    "ap_elements = soup.find_all(\"div\", class_=\"listtop-item\")"
   ]
  },
  {
   "cell_type": "code",
   "execution_count": 35,
   "metadata": {},
   "outputs": [
    {
     "data": {
      "text/plain": [
       "15"
      ]
     },
     "execution_count": 35,
     "metadata": {},
     "output_type": "execute_result"
    }
   ],
   "source": [
    "len(ap_elements)"
   ]
  },
  {
   "cell_type": "code",
   "execution_count": null,
   "metadata": {},
   "outputs": [],
   "source": []
  },
  {
   "cell_type": "code",
   "execution_count": 59,
   "metadata": {},
   "outputs": [
    {
     "name": "stdout",
     "output_type": "stream",
     "text": [
      "300,000 EUR (2,307.69 EUR / sq.m)\n",
      "Large apartment in Sofia\n",
      "130 sq.m\n",
      "Brick\n",
      "6th floor\n",
      "140,000 EUR (1,944.44 EUR / sq.m)\n",
      "One bedroom apartment in Sofia\n",
      "72 sq.m\n",
      "Brick\n",
      "2005 year\n",
      "5th floor\n",
      "Not the last\n",
      "412,000 EUR (1,979.44 EUR / sq.m)\n",
      "Large apartment in Sofia\n",
      "208.14 sq.m.\n",
      "Brick\n",
      "6th floor\n",
      "273,000 EUR (1,996.78 EUR / sq.m)\n",
      "Two-bedroom apartment in Sofia\n",
      "136.72 sq.m.\n",
      "Brick\n",
      "6th floor\n",
      "70,000 EUR (1,044.78 EUR / sq.m)\n",
      "One bedroom apartment in Sofia\n",
      "67 sq.m\n",
      "Panel\n",
      "1980 g.\n",
      "6th floor\n",
      "79,500 EUR (1,204.55 EUR / sq.m)\n",
      "One bedroom apartment in Sofia\n",
      "66 sq.m\n",
      "Panel\n",
      "1970 year\n",
      "2nd floor\n",
      "Not the last\n",
      "117,188 EUR (1,250 EUR / sq.m)\n",
      "Two-bedroom apartment in Sofia\n",
      "93.75 sq.m.\n",
      "Brick\n",
      "6th floor\n",
      "86,300 EUR (1,250 EUR / sq.m)\n",
      "One bedroom apartment in Sofia\n",
      "69.04 sq.m\n",
      "Brick\n",
      "6th floor\n",
      "161,660 EUR (1,449.35 EUR / sq.m)\n",
      "Two-bedroom apartment in Sofia\n",
      "111.54 sq.m.\n",
      "Brick\n",
      "5th floor\n",
      "111,070 EUR (1,449.43 EUR / sq.m)\n",
      "One bedroom apartment in Sofia\n",
      "76.63 sq.m.\n",
      "Brick\n",
      "5th floor\n",
      "270,000 EUR (3,000 EUR / sq.m)\n",
      "Two-bedroom apartment in Sofia\n",
      "90 sq.m\n",
      "Brick\n",
      "1920 g.\n",
      "2nd floor\n",
      "Not the last\n",
      "670,000 EUR (1,691.92 EUR / sq.m)\n",
      "Large apartment in Sofia\n",
      "396 sq.m\n",
      "Brick\n",
      "6th floor\n",
      "288,834 EUR (2,300 EUR / sq.m)\n",
      "Two-bedroom apartment in Sofia\n",
      "125.58 sq.m.\n",
      "Brick\n",
      "13th floor\n",
      "96,680 EUR (910.70 EUR / sq.m)\n",
      "One bedroom apartment in Sofia\n",
      "106.16 sq.m\n",
      "Brick\n",
      "7th floor\n",
      "139,000 EUR (1,946.23 EUR / sq.m)\n",
      "One bedroom apartment in Sofia\n",
      "71.42 sq.m.\n",
      "Brick\n",
      "6th floor\n"
     ]
    }
   ],
   "source": [
    "for i in ap_elements:\n",
    "    for j in i.find_all('span',class_=\"ads-params-single\"):\n",
    "        print(GoogleTranslator(source='auto', target='en').translate(j.text))"
   ]
  },
  {
   "cell_type": "code",
   "execution_count": 89,
   "metadata": {},
   "outputs": [
    {
     "name": "stdout",
     "output_type": "stream",
     "text": [
      "Цена: 300 000 EUR (2 307.69 EUR/кв.м)\n",
      "Вид на имота: Многостаен апартамент в София\n",
      "Квадратура: 130 кв.м\n",
      "Вид строителство: Тухла\n",
      "Номер на етажа: 6 етаж\n",
      "Цена: 140 000 EUR (1 944.44 EUR/кв.м)\n",
      "Вид на имота: Двустаен апартамент в София\n",
      "Квадратура: 72 кв.м\n",
      "Вид строителство: Тухла\n",
      "Година на строителство: 2005 г.\n",
      "Номер на етажа: 5 етаж\n",
      "Етаж: Непоследен\n",
      "Цена: 412 000 EUR (1 979.44 EUR/кв.м)\n",
      "Вид на имота: Многостаен апартамент в София\n",
      "Квадратура: 208.14 кв.м\n",
      "Вид строителство: Тухла\n",
      "Номер на етажа: 6 етаж\n",
      "Цена: 273 000 EUR (1 996.78 EUR/кв.м)\n",
      "Вид на имота: Тристаен апартамент в София\n",
      "Квадратура: 136.72 кв.м\n",
      "Вид строителство: Тухла\n",
      "Номер на етажа: 6 етаж\n",
      "Цена: 70 000 EUR (1 044.78 EUR/кв.м)\n",
      "Вид на имота: Двустаен апартамент в София\n",
      "Квадратура: 67 кв.м\n",
      "Вид строителство: Панел\n",
      "Година на строителство: 1980 г.\n",
      "Номер на етажа: 6 етаж\n",
      "Цена: 79 500 EUR (1 204.55 EUR/кв.м)\n",
      "Вид на имота: Двустаен апартамент в София\n",
      "Квадратура: 66 кв.м\n",
      "Вид строителство: Панел\n",
      "Година на строителство: 1970 г.\n",
      "Номер на етажа: 2 етаж\n",
      "Етаж: Непоследен\n",
      "Цена: 117 188 EUR (1 250 EUR/кв.м)\n",
      "Вид на имота: Тристаен апартамент в София\n",
      "Квадратура: 93.75 кв.м\n",
      "Вид строителство: Тухла\n",
      "Номер на етажа: 6 етаж\n",
      "Цена: 86 300 EUR (1 250 EUR/кв.м)\n",
      "Вид на имота: Двустаен апартамент в София\n",
      "Квадратура: 69.04 кв.м\n",
      "Вид строителство: Тухла\n",
      "Номер на етажа: 6 етаж\n",
      "Цена: 161 660 EUR (1 449.35 EUR/кв.м)\n",
      "Вид на имота: Тристаен апартамент в София\n",
      "Квадратура: 111.54 кв.м\n",
      "Вид строителство: Тухла\n",
      "Номер на етажа: 5 етаж\n",
      "Цена: 111 070 EUR (1 449.43 EUR/кв.м)\n",
      "Вид на имота: Двустаен апартамент в София\n",
      "Квадратура: 76.63 кв.м\n",
      "Вид строителство: Тухла\n",
      "Номер на етажа: 5 етаж\n",
      "Цена: 270 000 EUR (3 000 EUR/кв.м)\n",
      "Вид на имота: Тристаен апартамент в София\n",
      "Квадратура: 90 кв.м\n",
      "Вид строителство: Тухла\n",
      "Година на строителство: 1920 г.\n",
      "Номер на етажа: 2 етаж\n",
      "Етаж: Непоследен\n",
      "Цена: 670 000 EUR (1 691.92 EUR/кв.м)\n",
      "Вид на имота: Многостаен апартамент в София\n",
      "Квадратура: 396 кв.м\n",
      "Вид строителство: Тухла\n",
      "Номер на етажа: 6 етаж\n",
      "Цена: 288 834 EUR (2 300 EUR/кв.м)\n",
      "Вид на имота: Тристаен апартамент в София\n",
      "Квадратура: 125.58 кв.м\n",
      "Вид строителство: Тухла\n",
      "Номер на етажа: 13 етаж\n",
      "Цена: 96 680 EUR (910.70 EUR/кв.м)\n",
      "Вид на имота: Двустаен апартамент в София\n",
      "Квадратура: 106.16 кв.м\n",
      "Вид строителство: Тухла\n",
      "Номер на етажа: 7 етаж\n",
      "Цена: 139 000 EUR (1 946.23 EUR/кв.м)\n",
      "Вид на имота: Двустаен апартамент в София\n",
      "Квадратура: 71.42 кв.м\n",
      "Вид строителство: Тухла\n",
      "Номер на етажа: 6 етаж\n"
     ]
    }
   ],
   "source": [
    "apps = []\n",
    "for indx,i in enumerate(ap_elements):\n",
    "    for j in i.find_all('div',class_=\"ads-params-row\"):\n",
    "        print(j.find('div',class_=\"ads-param-title\").text,j.find('span',class_=\"ads-params-single\").text)\n",
    "        apps.append({j.find('div',class_=\"ads-param-title\").text:j.find('span',class_=\"ads-params-single\").text})"
   ]
  },
  {
   "cell_type": "code",
   "execution_count": 90,
   "metadata": {},
   "outputs": [
    {
     "data": {
      "text/plain": [
       "[{'Цена:': '300\\xa0000\\xa0EUR (2\\xa0307.69\\xa0EUR/кв.м)'},\n",
       " {'Вид на имота:': 'Многостаен апартамент в София'},\n",
       " {'Квадратура:': '130 кв.м'},\n",
       " {'Вид строителство:': 'Тухла'},\n",
       " {'Номер на етажа:': '6 етаж'},\n",
       " {'Цена:': '140\\xa0000\\xa0EUR (1\\xa0944.44\\xa0EUR/кв.м)'},\n",
       " {'Вид на имота:': 'Двустаен апартамент в София'},\n",
       " {'Квадратура:': '72 кв.м'},\n",
       " {'Вид строителство:': 'Тухла'},\n",
       " {'Година на строителство:': '2005 г.'},\n",
       " {'Номер на етажа:': '5 етаж'},\n",
       " {'Етаж:': 'Непоследен'},\n",
       " {'Цена:': '412\\xa0000\\xa0EUR (1\\xa0979.44\\xa0EUR/кв.м)'},\n",
       " {'Вид на имота:': 'Многостаен апартамент в София'},\n",
       " {'Квадратура:': '208.14 кв.м'},\n",
       " {'Вид строителство:': 'Тухла'},\n",
       " {'Номер на етажа:': '6 етаж'},\n",
       " {'Цена:': '273\\xa0000\\xa0EUR (1\\xa0996.78\\xa0EUR/кв.м)'},\n",
       " {'Вид на имота:': 'Тристаен апартамент в София'},\n",
       " {'Квадратура:': '136.72 кв.м'},\n",
       " {'Вид строителство:': 'Тухла'},\n",
       " {'Номер на етажа:': '6 етаж'},\n",
       " {'Цена:': '70\\xa0000\\xa0EUR (1\\xa0044.78\\xa0EUR/кв.м)'},\n",
       " {'Вид на имота:': 'Двустаен апартамент в София'},\n",
       " {'Квадратура:': '67 кв.м'},\n",
       " {'Вид строителство:': 'Панел'},\n",
       " {'Година на строителство:': '1980 г.'},\n",
       " {'Номер на етажа:': '6 етаж'},\n",
       " {'Цена:': '79\\xa0500\\xa0EUR (1\\xa0204.55\\xa0EUR/кв.м)'},\n",
       " {'Вид на имота:': 'Двустаен апартамент в София'},\n",
       " {'Квадратура:': '66 кв.м'},\n",
       " {'Вид строителство:': 'Панел'},\n",
       " {'Година на строителство:': '1970 г.'},\n",
       " {'Номер на етажа:': '2 етаж'},\n",
       " {'Етаж:': 'Непоследен'},\n",
       " {'Цена:': '117\\xa0188\\xa0EUR (1\\xa0250\\xa0EUR/кв.м)'},\n",
       " {'Вид на имота:': 'Тристаен апартамент в София'},\n",
       " {'Квадратура:': '93.75 кв.м'},\n",
       " {'Вид строителство:': 'Тухла'},\n",
       " {'Номер на етажа:': '6 етаж'},\n",
       " {'Цена:': '86\\xa0300\\xa0EUR (1\\xa0250\\xa0EUR/кв.м)'},\n",
       " {'Вид на имота:': 'Двустаен апартамент в София'},\n",
       " {'Квадратура:': '69.04 кв.м'},\n",
       " {'Вид строителство:': 'Тухла'},\n",
       " {'Номер на етажа:': '6 етаж'},\n",
       " {'Цена:': '161\\xa0660\\xa0EUR (1\\xa0449.35\\xa0EUR/кв.м)'},\n",
       " {'Вид на имота:': 'Тристаен апартамент в София'},\n",
       " {'Квадратура:': '111.54 кв.м'},\n",
       " {'Вид строителство:': 'Тухла'},\n",
       " {'Номер на етажа:': '5 етаж'},\n",
       " {'Цена:': '111\\xa0070\\xa0EUR (1\\xa0449.43\\xa0EUR/кв.м)'},\n",
       " {'Вид на имота:': 'Двустаен апартамент в София'},\n",
       " {'Квадратура:': '76.63 кв.м'},\n",
       " {'Вид строителство:': 'Тухла'},\n",
       " {'Номер на етажа:': '5 етаж'},\n",
       " {'Цена:': '270\\xa0000\\xa0EUR (3\\xa0000\\xa0EUR/кв.м)'},\n",
       " {'Вид на имота:': 'Тристаен апартамент в София'},\n",
       " {'Квадратура:': '90 кв.м'},\n",
       " {'Вид строителство:': 'Тухла'},\n",
       " {'Година на строителство:': '1920 г.'},\n",
       " {'Номер на етажа:': '2 етаж'},\n",
       " {'Етаж:': 'Непоследен'},\n",
       " {'Цена:': '670\\xa0000\\xa0EUR (1\\xa0691.92\\xa0EUR/кв.м)'},\n",
       " {'Вид на имота:': 'Многостаен апартамент в София'},\n",
       " {'Квадратура:': '396 кв.м'},\n",
       " {'Вид строителство:': 'Тухла'},\n",
       " {'Номер на етажа:': '6 етаж'},\n",
       " {'Цена:': '288\\xa0834\\xa0EUR (2\\xa0300\\xa0EUR/кв.м)'},\n",
       " {'Вид на имота:': 'Тристаен апартамент в София'},\n",
       " {'Квадратура:': '125.58 кв.м'},\n",
       " {'Вид строителство:': 'Тухла'},\n",
       " {'Номер на етажа:': '13 етаж'},\n",
       " {'Цена:': '96\\xa0680\\xa0EUR (910.70\\xa0EUR/кв.м)'},\n",
       " {'Вид на имота:': 'Двустаен апартамент в София'},\n",
       " {'Квадратура:': '106.16 кв.м'},\n",
       " {'Вид строителство:': 'Тухла'},\n",
       " {'Номер на етажа:': '7 етаж'},\n",
       " {'Цена:': '139\\xa0000\\xa0EUR (1\\xa0946.23\\xa0EUR/кв.м)'},\n",
       " {'Вид на имота:': 'Двустаен апартамент в София'},\n",
       " {'Квадратура:': '71.42 кв.м'},\n",
       " {'Вид строителство:': 'Тухла'},\n",
       " {'Номер на етажа:': '6 етаж'}]"
      ]
     },
     "execution_count": 90,
     "metadata": {},
     "output_type": "execute_result"
    }
   ],
   "source": [
    "apps"
   ]
  },
  {
   "cell_type": "code",
   "execution_count": 99,
   "metadata": {},
   "outputs": [
    {
     "ename": "TypeError",
     "evalue": "append() got an unexpected keyword argument 'column'",
     "output_type": "error",
     "traceback": [
      "\u001b[0;31m---------------------------------------------------------------------------\u001b[0m",
      "\u001b[0;31mTypeError\u001b[0m                                 Traceback (most recent call last)",
      "\u001b[0;32m<ipython-input-99-ac938e07ae5a>\u001b[0m in \u001b[0;36m<module>\u001b[0;34m\u001b[0m\n\u001b[1;32m      1\u001b[0m \u001b[0mdf\u001b[0m \u001b[0;34m=\u001b[0m \u001b[0mpd\u001b[0m\u001b[0;34m.\u001b[0m\u001b[0mDataFrame\u001b[0m\u001b[0;34m(\u001b[0m\u001b[0mcolumns\u001b[0m\u001b[0;34m=\u001b[0m\u001b[0;34m[\u001b[0m\u001b[0;34m'Price'\u001b[0m\u001b[0;34m,\u001b[0m\u001b[0;34m'Squares'\u001b[0m\u001b[0;34m,\u001b[0m\u001b[0;34m'Type'\u001b[0m\u001b[0;34m]\u001b[0m\u001b[0;34m)\u001b[0m\u001b[0;34m\u001b[0m\u001b[0;34m\u001b[0m\u001b[0m\n\u001b[1;32m      2\u001b[0m \u001b[0;31m# df = {\"Price\":12,'Squares':23,'Type':'app'}\u001b[0m\u001b[0;34m\u001b[0m\u001b[0;34m\u001b[0m\u001b[0;34m\u001b[0m\u001b[0m\n\u001b[0;32m----> 3\u001b[0;31m \u001b[0mdf\u001b[0m\u001b[0;34m.\u001b[0m\u001b[0mappend\u001b[0m\u001b[0;34m(\u001b[0m\u001b[0;36m12\u001b[0m\u001b[0;34m,\u001b[0m\u001b[0mcolumn\u001b[0m\u001b[0;34m=\u001b[0m\u001b[0;34m\"Price\"\u001b[0m\u001b[0;34m)\u001b[0m\u001b[0;34m\u001b[0m\u001b[0;34m\u001b[0m\u001b[0m\n\u001b[0m\u001b[1;32m      4\u001b[0m \u001b[0mdf\u001b[0m\u001b[0;34m\u001b[0m\u001b[0;34m\u001b[0m\u001b[0m\n",
      "\u001b[0;31mTypeError\u001b[0m: append() got an unexpected keyword argument 'column'"
     ]
    }
   ],
   "source": [
    "df = pd.DataFrame(columns=['Price','Squares','Type'])\n",
    "# df = {\"Price\":12,'Squares':23,'Type':'app'}\n",
    "df.append(12,column=\"Price\")\n",
    "df"
   ]
  },
  {
   "cell_type": "code",
   "execution_count": null,
   "metadata": {},
   "outputs": [],
   "source": []
  }
 ],
 "metadata": {
  "kernelspec": {
   "display_name": "Python 3 (ipykernel)",
   "language": "python",
   "name": "python3"
  },
  "language_info": {
   "codemirror_mode": {
    "name": "ipython",
    "version": 3
   },
   "file_extension": ".py",
   "mimetype": "text/x-python",
   "name": "python",
   "nbconvert_exporter": "python",
   "pygments_lexer": "ipython3",
   "version": "3.8.6"
  },
  "toc": {
   "base_numbering": 1,
   "nav_menu": {},
   "number_sections": true,
   "sideBar": true,
   "skip_h1_title": false,
   "title_cell": "Table of Contents",
   "title_sidebar": "Contents",
   "toc_cell": false,
   "toc_position": {},
   "toc_section_display": true,
   "toc_window_display": false
  }
 },
 "nbformat": 4,
 "nbformat_minor": 4
}
